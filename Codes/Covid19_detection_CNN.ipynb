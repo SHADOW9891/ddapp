{
  "nbformat": 4,
  "nbformat_minor": 0,
  "metadata": {
    "colab": {
      "name": "Covid19 detection CNN.ipynb",
      "provenance": [],
      "collapsed_sections": []
    },
    "kernelspec": {
      "name": "python3",
      "display_name": "Python 3"
    },
    "language_info": {
      "name": "python"
    },
    "accelerator": "GPU"
  },
  "cells": [
    {
      "cell_type": "markdown",
      "metadata": {
        "id": "Mp5LTW5w5zFz"
      },
      "source": [
        "# **Requirements**"
      ]
    },
    {
      "cell_type": "markdown",
      "metadata": {
        "id": "KZTec5ws8fd0"
      },
      "source": [
        ""
      ]
    },
    {
      "cell_type": "code",
      "metadata": {
        "colab": {
          "base_uri": "https://localhost:8080/"
        },
        "id": "x4sATyst2cq8",
        "outputId": "6609f2eb-2a37-4e0f-9b28-3c2fdde281bf"
      },
      "source": [
        "!pip install tensorflow-gpu"
      ],
      "execution_count": null,
      "outputs": [
        {
          "output_type": "stream",
          "text": [
            "Requirement already satisfied: tensorflow-gpu in /usr/local/lib/python3.7/dist-packages (2.5.0)\n",
            "Requirement already satisfied: six~=1.15.0 in /usr/local/lib/python3.7/dist-packages (from tensorflow-gpu) (1.15.0)\n",
            "Requirement already satisfied: protobuf>=3.9.2 in /usr/local/lib/python3.7/dist-packages (from tensorflow-gpu) (3.17.3)\n",
            "Requirement already satisfied: keras-preprocessing~=1.1.2 in /usr/local/lib/python3.7/dist-packages (from tensorflow-gpu) (1.1.2)\n",
            "Requirement already satisfied: wheel~=0.35 in /usr/local/lib/python3.7/dist-packages (from tensorflow-gpu) (0.36.2)\n",
            "Requirement already satisfied: opt-einsum~=3.3.0 in /usr/local/lib/python3.7/dist-packages (from tensorflow-gpu) (3.3.0)\n",
            "Requirement already satisfied: numpy~=1.19.2 in /usr/local/lib/python3.7/dist-packages (from tensorflow-gpu) (1.19.5)\n",
            "Requirement already satisfied: absl-py~=0.10 in /usr/local/lib/python3.7/dist-packages (from tensorflow-gpu) (0.12.0)\n",
            "Requirement already satisfied: astunparse~=1.6.3 in /usr/local/lib/python3.7/dist-packages (from tensorflow-gpu) (1.6.3)\n",
            "Requirement already satisfied: h5py~=3.1.0 in /usr/local/lib/python3.7/dist-packages (from tensorflow-gpu) (3.1.0)\n",
            "Requirement already satisfied: google-pasta~=0.2 in /usr/local/lib/python3.7/dist-packages (from tensorflow-gpu) (0.2.0)\n",
            "Requirement already satisfied: wrapt~=1.12.1 in /usr/local/lib/python3.7/dist-packages (from tensorflow-gpu) (1.12.1)\n",
            "Requirement already satisfied: tensorboard~=2.5 in /usr/local/lib/python3.7/dist-packages (from tensorflow-gpu) (2.5.0)\n",
            "Requirement already satisfied: tensorflow-estimator<2.6.0,>=2.5.0rc0 in /usr/local/lib/python3.7/dist-packages (from tensorflow-gpu) (2.5.0)\n",
            "Requirement already satisfied: termcolor~=1.1.0 in /usr/local/lib/python3.7/dist-packages (from tensorflow-gpu) (1.1.0)\n",
            "Requirement already satisfied: flatbuffers~=1.12.0 in /usr/local/lib/python3.7/dist-packages (from tensorflow-gpu) (1.12)\n",
            "Requirement already satisfied: typing-extensions~=3.7.4 in /usr/local/lib/python3.7/dist-packages (from tensorflow-gpu) (3.7.4.3)\n",
            "Requirement already satisfied: grpcio~=1.34.0 in /usr/local/lib/python3.7/dist-packages (from tensorflow-gpu) (1.34.1)\n",
            "Requirement already satisfied: keras-nightly~=2.5.0.dev in /usr/local/lib/python3.7/dist-packages (from tensorflow-gpu) (2.5.0.dev2021032900)\n",
            "Requirement already satisfied: gast==0.4.0 in /usr/local/lib/python3.7/dist-packages (from tensorflow-gpu) (0.4.0)\n",
            "Requirement already satisfied: cached-property in /usr/local/lib/python3.7/dist-packages (from h5py~=3.1.0->tensorflow-gpu) (1.5.2)\n",
            "Requirement already satisfied: setuptools>=41.0.0 in /usr/local/lib/python3.7/dist-packages (from tensorboard~=2.5->tensorflow-gpu) (57.2.0)\n",
            "Requirement already satisfied: requests<3,>=2.21.0 in /usr/local/lib/python3.7/dist-packages (from tensorboard~=2.5->tensorflow-gpu) (2.23.0)\n",
            "Requirement already satisfied: tensorboard-data-server<0.7.0,>=0.6.0 in /usr/local/lib/python3.7/dist-packages (from tensorboard~=2.5->tensorflow-gpu) (0.6.1)\n",
            "Requirement already satisfied: werkzeug>=0.11.15 in /usr/local/lib/python3.7/dist-packages (from tensorboard~=2.5->tensorflow-gpu) (1.0.1)\n",
            "Requirement already satisfied: markdown>=2.6.8 in /usr/local/lib/python3.7/dist-packages (from tensorboard~=2.5->tensorflow-gpu) (3.3.4)\n",
            "Requirement already satisfied: google-auth-oauthlib<0.5,>=0.4.1 in /usr/local/lib/python3.7/dist-packages (from tensorboard~=2.5->tensorflow-gpu) (0.4.4)\n",
            "Requirement already satisfied: tensorboard-plugin-wit>=1.6.0 in /usr/local/lib/python3.7/dist-packages (from tensorboard~=2.5->tensorflow-gpu) (1.8.0)\n",
            "Requirement already satisfied: google-auth<2,>=1.6.3 in /usr/local/lib/python3.7/dist-packages (from tensorboard~=2.5->tensorflow-gpu) (1.32.1)\n",
            "Requirement already satisfied: pyasn1-modules>=0.2.1 in /usr/local/lib/python3.7/dist-packages (from google-auth<2,>=1.6.3->tensorboard~=2.5->tensorflow-gpu) (0.2.8)\n",
            "Requirement already satisfied: rsa<5,>=3.1.4 in /usr/local/lib/python3.7/dist-packages (from google-auth<2,>=1.6.3->tensorboard~=2.5->tensorflow-gpu) (4.7.2)\n",
            "Requirement already satisfied: cachetools<5.0,>=2.0.0 in /usr/local/lib/python3.7/dist-packages (from google-auth<2,>=1.6.3->tensorboard~=2.5->tensorflow-gpu) (4.2.2)\n",
            "Requirement already satisfied: requests-oauthlib>=0.7.0 in /usr/local/lib/python3.7/dist-packages (from google-auth-oauthlib<0.5,>=0.4.1->tensorboard~=2.5->tensorflow-gpu) (1.3.0)\n",
            "Requirement already satisfied: importlib-metadata in /usr/local/lib/python3.7/dist-packages (from markdown>=2.6.8->tensorboard~=2.5->tensorflow-gpu) (4.6.1)\n",
            "Requirement already satisfied: pyasn1<0.5.0,>=0.4.6 in /usr/local/lib/python3.7/dist-packages (from pyasn1-modules>=0.2.1->google-auth<2,>=1.6.3->tensorboard~=2.5->tensorflow-gpu) (0.4.8)\n",
            "Requirement already satisfied: idna<3,>=2.5 in /usr/local/lib/python3.7/dist-packages (from requests<3,>=2.21.0->tensorboard~=2.5->tensorflow-gpu) (2.10)\n",
            "Requirement already satisfied: certifi>=2017.4.17 in /usr/local/lib/python3.7/dist-packages (from requests<3,>=2.21.0->tensorboard~=2.5->tensorflow-gpu) (2021.5.30)\n",
            "Requirement already satisfied: chardet<4,>=3.0.2 in /usr/local/lib/python3.7/dist-packages (from requests<3,>=2.21.0->tensorboard~=2.5->tensorflow-gpu) (3.0.4)\n",
            "Requirement already satisfied: urllib3!=1.25.0,!=1.25.1,<1.26,>=1.21.1 in /usr/local/lib/python3.7/dist-packages (from requests<3,>=2.21.0->tensorboard~=2.5->tensorflow-gpu) (1.24.3)\n",
            "Requirement already satisfied: oauthlib>=3.0.0 in /usr/local/lib/python3.7/dist-packages (from requests-oauthlib>=0.7.0->google-auth-oauthlib<0.5,>=0.4.1->tensorboard~=2.5->tensorflow-gpu) (3.1.1)\n",
            "Requirement already satisfied: zipp>=0.5 in /usr/local/lib/python3.7/dist-packages (from importlib-metadata->markdown>=2.6.8->tensorboard~=2.5->tensorflow-gpu) (3.5.0)\n"
          ],
          "name": "stdout"
        }
      ]
    },
    {
      "cell_type": "code",
      "metadata": {
        "colab": {
          "base_uri": "https://localhost:8080/"
        },
        "id": "UTs59cop3Y6J",
        "outputId": "7f5bc75a-b6db-4574-83c3-85cb161517a3"
      },
      "source": [
        "!nvidia-smi"
      ],
      "execution_count": null,
      "outputs": [
        {
          "output_type": "stream",
          "text": [
            "NVIDIA-SMI has failed because it couldn't communicate with the NVIDIA driver. Make sure that the latest NVIDIA driver is installed and running.\n",
            "\n"
          ],
          "name": "stdout"
        }
      ]
    },
    {
      "cell_type": "markdown",
      "metadata": {
        "id": "T_Z-Zruo5w9a"
      },
      "source": [
        "# **Convolutional Neural Network**\n"
      ]
    },
    {
      "cell_type": "markdown",
      "metadata": {
        "id": "R0-mIipM6bTi"
      },
      "source": [
        " \n",
        "\n",
        "---\n",
        "\n"
      ]
    },
    {
      "cell_type": "markdown",
      "metadata": {
        "id": "Rq93pLmb6kYe"
      },
      "source": [
        "Importing the libraries"
      ]
    },
    {
      "cell_type": "code",
      "metadata": {
        "id": "tzcqCkRG35AM"
      },
      "source": [
        "import tensorflow as tf\n",
        "from tensorflow.keras.layers import Input, Lambda, Dense, Flatten, Conv2D, MaxPooling2D, Dropout\n",
        "from tensorflow.keras.models import Model, load_model\n",
        "from tensorflow.keras.preprocessing import image\n",
        "from tensorflow.keras.preprocessing.image import ImageDataGenerator,load_img\n",
        "from tensorflow.keras.models import Sequential\n",
        "from tensorflow.keras.regularizers import l2\n",
        "\n",
        "import numpy as np\n",
        "from glob import glob\n",
        "import matplotlib.pyplot as plt"
      ],
      "execution_count": null,
      "outputs": []
    },
    {
      "cell_type": "code",
      "metadata": {
        "colab": {
          "base_uri": "https://localhost:8080/"
        },
        "id": "bvJUD-Rk_pR6",
        "outputId": "1c578402-44b6-4066-d65b-6628ad84e431"
      },
      "source": [
        "from google.colab import drive\n",
        "drive.mount('/content/drive')"
      ],
      "execution_count": null,
      "outputs": [
        {
          "output_type": "stream",
          "text": [
            "Drive already mounted at /content/drive; to attempt to forcibly remount, call drive.mount(\"/content/drive\", force_remount=True).\n"
          ],
          "name": "stdout"
        }
      ]
    },
    {
      "cell_type": "markdown",
      "metadata": {
        "id": "OQ-SAWJW6zGQ"
      },
      "source": [
        "Image Resize"
      ]
    },
    {
      "cell_type": "code",
      "metadata": {
        "id": "TUuNXO1W35P_"
      },
      "source": [
        "IMAGE_SIZE = [224, 224]"
      ],
      "execution_count": null,
      "outputs": []
    },
    {
      "cell_type": "markdown",
      "metadata": {
        "id": "nzr5bZEt69wS"
      },
      "source": [
        "Import the dataset"
      ]
    },
    {
      "cell_type": "code",
      "metadata": {
        "id": "M6uKKsu57AMs"
      },
      "source": [
        "train_path = '/content/drive/MyDrive/Covid19/train'\n",
        "test_path = '/content/drive/MyDrive/Covid19/test'"
      ],
      "execution_count": null,
      "outputs": []
    },
    {
      "cell_type": "code",
      "metadata": {
        "colab": {
          "base_uri": "https://localhost:8080/"
        },
        "id": "Un6pnyRn7Aeb",
        "outputId": "0a7ba6ea-4c23-47ac-f7f2-6e3bfdcea6ca"
      },
      "source": [
        "# useful for getting number of output classes\n",
        "folders = glob('/content/drive/MyDrive/Covid19/train/*')\n",
        "folders"
      ],
      "execution_count": null,
      "outputs": [
        {
          "output_type": "execute_result",
          "data": {
            "text/plain": [
              "['/content/drive/MyDrive/Covid19/train/affected',\n",
              " '/content/drive/MyDrive/Covid19/train/not affected']"
            ]
          },
          "metadata": {
            "tags": []
          },
          "execution_count": 9
        }
      ]
    },
    {
      "cell_type": "markdown",
      "metadata": {
        "id": "Qtp8EZ3R8nY-"
      },
      "source": [
        "Model creation"
      ]
    },
    {
      "cell_type": "code",
      "metadata": {
        "colab": {
          "base_uri": "https://localhost:8080/"
        },
        "id": "pdVRtTwF-q4D",
        "outputId": "3b833ff0-2509-44da-a028-f917319b3ea3"
      },
      "source": [
        "### Create Model from scratch using CNN\n",
        "# Initialising the CNN\n",
        "cnn = tf.keras.models.Sequential()\n",
        "\n",
        "# Step 1 - Convolution\n",
        "cnn.add(Conv2D(filters=16,kernel_size=2,padding=\"same\",activation=\"relu\",input_shape=(224,224,3)))\n",
        "\n",
        "# Step 2 - Pooling\n",
        "cnn.add(MaxPooling2D(pool_size=2))\n",
        "\n",
        "# Adding a second convolutional layer\n",
        "cnn.add(Conv2D(filters=32,kernel_size=2,padding=\"same\",activation =\"relu\"))\n",
        "\n",
        "# Adding second Pooling layer\n",
        "cnn.add(MaxPooling2D(pool_size=2))\n",
        "\n",
        "# Adding a third convolutional layer\n",
        "cnn.add(Conv2D(filters=64,kernel_size=2,padding=\"same\",activation=\"relu\"))\n",
        "\n",
        "# Adding third Pooling layer\n",
        "cnn.add(MaxPooling2D(pool_size=2))\n",
        "\n",
        "# Step 3 - Flattening\n",
        "cnn.add(Flatten())\n",
        "\n",
        "# Step 4 - Full Connection\n",
        "cnn.add(Dense(500,activation=\"relu\"))\n",
        "\n",
        "# Step 5 - Dropout to deal with overfitting\n",
        "cnn.add(Dropout(0.2))\n",
        "\n",
        "# Step 6 - Output Layer\n",
        "cnn.add(Dense(len(folders),activation=\"softmax\"))\n",
        "cnn.summary()"
      ],
      "execution_count": null,
      "outputs": [
        {
          "output_type": "stream",
          "text": [
            "Model: \"sequential\"\n",
            "_________________________________________________________________\n",
            "Layer (type)                 Output Shape              Param #   \n",
            "=================================================================\n",
            "conv2d (Conv2D)              (None, 224, 224, 16)      208       \n",
            "_________________________________________________________________\n",
            "max_pooling2d (MaxPooling2D) (None, 112, 112, 16)      0         \n",
            "_________________________________________________________________\n",
            "conv2d_1 (Conv2D)            (None, 112, 112, 32)      2080      \n",
            "_________________________________________________________________\n",
            "max_pooling2d_1 (MaxPooling2 (None, 56, 56, 32)        0         \n",
            "_________________________________________________________________\n",
            "conv2d_2 (Conv2D)            (None, 56, 56, 64)        8256      \n",
            "_________________________________________________________________\n",
            "max_pooling2d_2 (MaxPooling2 (None, 28, 28, 64)        0         \n",
            "_________________________________________________________________\n",
            "flatten (Flatten)            (None, 50176)             0         \n",
            "_________________________________________________________________\n",
            "dense (Dense)                (None, 500)               25088500  \n",
            "_________________________________________________________________\n",
            "dropout (Dropout)            (None, 500)               0         \n",
            "_________________________________________________________________\n",
            "dense_1 (Dense)              (None, 2)                 1002      \n",
            "=================================================================\n",
            "Total params: 25,100,046\n",
            "Trainable params: 25,100,046\n",
            "Non-trainable params: 0\n",
            "_________________________________________________________________\n"
          ],
          "name": "stdout"
        }
      ]
    },
    {
      "cell_type": "markdown",
      "metadata": {
        "id": "jeCptMrZB14h"
      },
      "source": [
        "Choose the best parameters"
      ]
    },
    {
      "cell_type": "code",
      "metadata": {
        "id": "ygrQT5p577iC"
      },
      "source": [
        "cnn.compile(\n",
        "  loss='categorical_crossentropy',\n",
        "  optimizer='adam',\n",
        "  metrics=['accuracy']\n",
        ")"
      ],
      "execution_count": null,
      "outputs": []
    },
    {
      "cell_type": "markdown",
      "metadata": {
        "id": "l4KIoQlDCOMc"
      },
      "source": [
        "Use the Image Data Generator to import the images from the dataset"
      ]
    },
    {
      "cell_type": "code",
      "metadata": {
        "id": "_1tdg4yY77mn"
      },
      "source": [
        "from tensorflow.keras.preprocessing.image import ImageDataGenerator\n",
        "\n",
        "train_datagen = ImageDataGenerator(rescale = 1./255,\n",
        "                                   shear_range = 0.2,\n",
        "                                   zoom_range = 0.2,\n",
        "                                   horizontal_flip = True)\n",
        "\n",
        "test_datagen = ImageDataGenerator(rescale = 1./255)"
      ],
      "execution_count": null,
      "outputs": []
    },
    {
      "cell_type": "code",
      "metadata": {
        "colab": {
          "base_uri": "https://localhost:8080/"
        },
        "id": "n_o1r23x77r_",
        "outputId": "93f0e3df-6876-417f-8e78-4e701623b76c"
      },
      "source": [
        "# Make sure you provide the same target size as initialied for the image size\n",
        "train_set = train_datagen.flow_from_directory('/content/drive/MyDrive/Covid19/train',\n",
        "                                                 target_size = (224,224),\n",
        "                                                 batch_size = 16,\n",
        "                                                 class_mode = 'categorical')"
      ],
      "execution_count": null,
      "outputs": [
        {
          "output_type": "stream",
          "text": [
            "Found 2400 images belonging to 2 classes.\n"
          ],
          "name": "stdout"
        }
      ]
    },
    {
      "cell_type": "code",
      "metadata": {
        "colab": {
          "base_uri": "https://localhost:8080/"
        },
        "id": "CAHHEjc477xW",
        "outputId": "ba877557-35b7-4194-ffac-a01a415ec799"
      },
      "source": [
        "test_set = test_datagen.flow_from_directory('/content/drive/MyDrive/Covid19/test',\n",
        "                                            target_size = (224,224),\n",
        "                                            batch_size = 16,\n",
        "                                            class_mode = 'categorical')"
      ],
      "execution_count": null,
      "outputs": [
        {
          "output_type": "stream",
          "text": [
            "Found 600 images belonging to 2 classes.\n"
          ],
          "name": "stdout"
        }
      ]
    },
    {
      "cell_type": "markdown",
      "metadata": {
        "id": "c5N7FcZ5Csod"
      },
      "source": [
        "**fit the model**"
      ]
    },
    {
      "cell_type": "code",
      "metadata": {
        "colab": {
          "base_uri": "https://localhost:8080/"
        },
        "id": "9gwTU4MQCxGC",
        "outputId": "0e6d584e-d3a3-4c92-a73f-614bc4ce17c7"
      },
      "source": [
        "# Training the CNN on the Training set and evaluating it on the Test set\n",
        "r=cnn.fit(x = train_set, validation_data = test_set, epochs = 50)"
      ],
      "execution_count": null,
      "outputs": [
        {
          "output_type": "stream",
          "text": [
            "Epoch 1/50\n",
            "150/150 [==============================] - 1173s 8s/step - loss: 0.3064 - accuracy: 0.9000 - val_loss: 0.2230 - val_accuracy: 0.9417\n",
            "Epoch 2/50\n",
            "150/150 [==============================] - 141s 938ms/step - loss: 0.0871 - accuracy: 0.9746 - val_loss: 0.0741 - val_accuracy: 0.9683\n",
            "Epoch 3/50\n",
            "150/150 [==============================] - 140s 931ms/step - loss: 0.0880 - accuracy: 0.9721 - val_loss: 0.0582 - val_accuracy: 0.9817\n",
            "Epoch 4/50\n",
            "150/150 [==============================] - 140s 931ms/step - loss: 0.0702 - accuracy: 0.9754 - val_loss: 0.0984 - val_accuracy: 0.9617\n",
            "Epoch 5/50\n",
            "150/150 [==============================] - 140s 932ms/step - loss: 0.0538 - accuracy: 0.9842 - val_loss: 0.0773 - val_accuracy: 0.9750\n",
            "Epoch 6/50\n",
            "150/150 [==============================] - 140s 932ms/step - loss: 0.0605 - accuracy: 0.9783 - val_loss: 0.1607 - val_accuracy: 0.9567\n",
            "Epoch 7/50\n",
            "150/150 [==============================] - 140s 931ms/step - loss: 0.0673 - accuracy: 0.9787 - val_loss: 0.1633 - val_accuracy: 0.9467\n",
            "Epoch 8/50\n",
            "150/150 [==============================] - 139s 927ms/step - loss: 0.0526 - accuracy: 0.9829 - val_loss: 0.0651 - val_accuracy: 0.9667\n",
            "Epoch 9/50\n",
            "150/150 [==============================] - 139s 926ms/step - loss: 0.0418 - accuracy: 0.9829 - val_loss: 0.0872 - val_accuracy: 0.9767\n",
            "Epoch 10/50\n",
            "150/150 [==============================] - 139s 927ms/step - loss: 0.0369 - accuracy: 0.9896 - val_loss: 0.0913 - val_accuracy: 0.9717\n",
            "Epoch 11/50\n",
            "150/150 [==============================] - 140s 932ms/step - loss: 0.0395 - accuracy: 0.9850 - val_loss: 0.0495 - val_accuracy: 0.9833\n",
            "Epoch 12/50\n",
            "150/150 [==============================] - 139s 928ms/step - loss: 0.0418 - accuracy: 0.9862 - val_loss: 0.0648 - val_accuracy: 0.9767\n",
            "Epoch 13/50\n",
            "150/150 [==============================] - 139s 926ms/step - loss: 0.0412 - accuracy: 0.9908 - val_loss: 0.1377 - val_accuracy: 0.9583\n",
            "Epoch 14/50\n",
            "150/150 [==============================] - 139s 926ms/step - loss: 0.0373 - accuracy: 0.9850 - val_loss: 0.1337 - val_accuracy: 0.9617\n",
            "Epoch 15/50\n",
            "150/150 [==============================] - 139s 926ms/step - loss: 0.0263 - accuracy: 0.9912 - val_loss: 0.1904 - val_accuracy: 0.9517\n",
            "Epoch 16/50\n",
            "150/150 [==============================] - 139s 924ms/step - loss: 0.0345 - accuracy: 0.9883 - val_loss: 0.1520 - val_accuracy: 0.9517\n",
            "Epoch 17/50\n",
            "150/150 [==============================] - 139s 927ms/step - loss: 0.0270 - accuracy: 0.9912 - val_loss: 0.0666 - val_accuracy: 0.9800\n",
            "Epoch 18/50\n",
            "150/150 [==============================] - 139s 924ms/step - loss: 0.0498 - accuracy: 0.9833 - val_loss: 0.1021 - val_accuracy: 0.9700\n",
            "Epoch 19/50\n",
            "150/150 [==============================] - 139s 925ms/step - loss: 0.0257 - accuracy: 0.9904 - val_loss: 0.0865 - val_accuracy: 0.9750\n",
            "Epoch 20/50\n",
            "150/150 [==============================] - 139s 927ms/step - loss: 0.0316 - accuracy: 0.9896 - val_loss: 0.0423 - val_accuracy: 0.9883\n",
            "Epoch 21/50\n",
            "150/150 [==============================] - 140s 929ms/step - loss: 0.0304 - accuracy: 0.9900 - val_loss: 0.1128 - val_accuracy: 0.9567\n",
            "Epoch 22/50\n",
            "150/150 [==============================] - 140s 930ms/step - loss: 0.0230 - accuracy: 0.9929 - val_loss: 0.1420 - val_accuracy: 0.9600\n",
            "Epoch 23/50\n",
            "150/150 [==============================] - 140s 931ms/step - loss: 0.0295 - accuracy: 0.9917 - val_loss: 0.0574 - val_accuracy: 0.9700\n",
            "Epoch 24/50\n",
            "150/150 [==============================] - 140s 929ms/step - loss: 0.0295 - accuracy: 0.9900 - val_loss: 0.1167 - val_accuracy: 0.9617\n",
            "Epoch 25/50\n",
            "150/150 [==============================] - 139s 925ms/step - loss: 0.0286 - accuracy: 0.9925 - val_loss: 0.0810 - val_accuracy: 0.9683\n",
            "Epoch 26/50\n",
            "150/150 [==============================] - 139s 927ms/step - loss: 0.0180 - accuracy: 0.9937 - val_loss: 0.1482 - val_accuracy: 0.9700\n",
            "Epoch 27/50\n",
            "150/150 [==============================] - 139s 928ms/step - loss: 0.0292 - accuracy: 0.9904 - val_loss: 0.1178 - val_accuracy: 0.9717\n",
            "Epoch 28/50\n",
            "150/150 [==============================] - 140s 929ms/step - loss: 0.0319 - accuracy: 0.9904 - val_loss: 0.1106 - val_accuracy: 0.9700\n",
            "Epoch 29/50\n",
            "150/150 [==============================] - 139s 928ms/step - loss: 0.0206 - accuracy: 0.9925 - val_loss: 0.0719 - val_accuracy: 0.9767\n",
            "Epoch 30/50\n",
            "150/150 [==============================] - 140s 929ms/step - loss: 0.0225 - accuracy: 0.9937 - val_loss: 0.0994 - val_accuracy: 0.9700\n",
            "Epoch 31/50\n",
            "150/150 [==============================] - 139s 925ms/step - loss: 0.0135 - accuracy: 0.9954 - val_loss: 0.1077 - val_accuracy: 0.9767\n",
            "Epoch 32/50\n",
            "150/150 [==============================] - 138s 919ms/step - loss: 0.0220 - accuracy: 0.9937 - val_loss: 0.0624 - val_accuracy: 0.9800\n",
            "Epoch 33/50\n",
            "150/150 [==============================] - 139s 925ms/step - loss: 0.0144 - accuracy: 0.9962 - val_loss: 0.1559 - val_accuracy: 0.9600\n",
            "Epoch 34/50\n",
            "150/150 [==============================] - 139s 925ms/step - loss: 0.0149 - accuracy: 0.9954 - val_loss: 0.1078 - val_accuracy: 0.9717\n",
            "Epoch 35/50\n",
            "150/150 [==============================] - 139s 927ms/step - loss: 0.0206 - accuracy: 0.9937 - val_loss: 0.0778 - val_accuracy: 0.9750\n",
            "Epoch 36/50\n",
            "150/150 [==============================] - 138s 922ms/step - loss: 0.0168 - accuracy: 0.9962 - val_loss: 0.0953 - val_accuracy: 0.9700\n",
            "Epoch 37/50\n",
            "150/150 [==============================] - 139s 924ms/step - loss: 0.0232 - accuracy: 0.9929 - val_loss: 0.0565 - val_accuracy: 0.9833\n",
            "Epoch 38/50\n",
            "150/150 [==============================] - 139s 924ms/step - loss: 0.0248 - accuracy: 0.9921 - val_loss: 0.1018 - val_accuracy: 0.9667\n",
            "Epoch 39/50\n",
            "150/150 [==============================] - 139s 926ms/step - loss: 0.0190 - accuracy: 0.9925 - val_loss: 0.2814 - val_accuracy: 0.9367\n",
            "Epoch 40/50\n",
            "150/150 [==============================] - 139s 923ms/step - loss: 0.0260 - accuracy: 0.9925 - val_loss: 0.0981 - val_accuracy: 0.9650\n",
            "Epoch 41/50\n",
            "150/150 [==============================] - 138s 917ms/step - loss: 0.0166 - accuracy: 0.9942 - val_loss: 0.1154 - val_accuracy: 0.9733\n",
            "Epoch 42/50\n",
            "150/150 [==============================] - 138s 916ms/step - loss: 0.0213 - accuracy: 0.9937 - val_loss: 0.1144 - val_accuracy: 0.9733\n",
            "Epoch 43/50\n",
            "150/150 [==============================] - 137s 913ms/step - loss: 0.0106 - accuracy: 0.9967 - val_loss: 0.1229 - val_accuracy: 0.9700\n",
            "Epoch 44/50\n",
            "150/150 [==============================] - 138s 916ms/step - loss: 0.0145 - accuracy: 0.9942 - val_loss: 0.1097 - val_accuracy: 0.9750\n",
            "Epoch 45/50\n",
            "150/150 [==============================] - 138s 919ms/step - loss: 0.0209 - accuracy: 0.9942 - val_loss: 0.1036 - val_accuracy: 0.9667\n",
            "Epoch 46/50\n",
            "150/150 [==============================] - 138s 916ms/step - loss: 0.0217 - accuracy: 0.9933 - val_loss: 0.1857 - val_accuracy: 0.9583\n",
            "Epoch 47/50\n",
            "150/150 [==============================] - 138s 916ms/step - loss: 0.0209 - accuracy: 0.9937 - val_loss: 0.2381 - val_accuracy: 0.9600\n",
            "Epoch 48/50\n",
            "150/150 [==============================] - 138s 916ms/step - loss: 0.0162 - accuracy: 0.9950 - val_loss: 0.0883 - val_accuracy: 0.9817\n",
            "Epoch 49/50\n",
            "150/150 [==============================] - 138s 919ms/step - loss: 0.0204 - accuracy: 0.9937 - val_loss: 0.0855 - val_accuracy: 0.9750\n",
            "Epoch 50/50\n",
            "150/150 [==============================] - 137s 913ms/step - loss: 0.0127 - accuracy: 0.9967 - val_loss: 0.3558 - val_accuracy: 0.9450\n"
          ],
          "name": "stdout"
        }
      ]
    },
    {
      "cell_type": "code",
      "metadata": {
        "colab": {
          "base_uri": "https://localhost:8080/",
          "height": 532
        },
        "id": "SWfX8fDQPg8e",
        "outputId": "e656fc6f-b8ac-4160-82d6-670ef4201f47"
      },
      "source": [
        "# plot the loss\n",
        "import matplotlib.pyplot as plt\n",
        "plt.plot(r.history['loss'], label='train loss')\n",
        "plt.plot(r.history['val_loss'], label='val loss')\n",
        "plt.legend()\n",
        "plt.show()\n",
        "plt.savefig('LossVal_loss')\n",
        "\n",
        "# plot the accuracy\n",
        "plt.plot(r.history['accuracy'], label='train acc')\n",
        "plt.plot(r.history['val_accuracy'], label='val acc')\n",
        "plt.legend()\n",
        "plt.show()\n",
        "plt.savefig('AccVal_acc')"
      ],
      "execution_count": null,
      "outputs": [
        {
          "output_type": "display_data",
          "data": {
            "image/png": "[encoded data removed]",
            "text/plain": [
              "<Figure size 432x288 with 1 Axes>"
            ]
          },
          "metadata": {
            "tags": [],
            "needs_background": "light"
          }
        },
        {
          "output_type": "display_data",
          "data": {
            "image/png": "[encoded data removed]",
            "text/plain": [
              "<Figure size 432x288 with 1 Axes>"
            ]
          },
          "metadata": {
            "tags": [],
            "needs_background": "light"
          }
        },
        {
          "output_type": "display_data",
          "data": {
            "text/plain": [
              "<Figure size 432x288 with 0 Axes>"
            ]
          },
          "metadata": {
            "tags": []
          }
        }
      ]
    },
    {
      "cell_type": "markdown",
      "metadata": {
        "id": "RJP3gpVBC39f"
      },
      "source": [
        "**Save it as a h5 file**"
      ]
    },
    {
      "cell_type": "code",
      "metadata": {
        "id": "BHyY9iX6CyZa"
      },
      "source": [
        "from tensorflow.keras.models import load_model\n",
        "\n",
        "cnn.save('model_cnn.h5')"
      ],
      "execution_count": null,
      "outputs": []
    },
    {
      "cell_type": "markdown",
      "metadata": {
        "id": "TRNs7b-NDtxD"
      },
      "source": [
        "Apply model on test set"
      ]
    },
    {
      "cell_type": "code",
      "metadata": {
        "id": "Dv3RvU3ZCydq"
      },
      "source": [
        "y_pred = cnn.predict(test_set)"
      ],
      "execution_count": null,
      "outputs": []
    },
    {
      "cell_type": "code",
      "metadata": {
        "colab": {
          "base_uri": "https://localhost:8080/"
        },
        "id": "NwP-eTo8D0Y2",
        "outputId": "5fa4f882-f5d9-4ff0-9556-6847aaa7eba1"
      },
      "source": [
        "y_pred"
      ],
      "execution_count": null,
      "outputs": [
        {
          "output_type": "execute_result",
          "data": {
            "text/plain": [
              "array([[1.9654254e-15, 1.0000000e+00],\n",
              "       [5.8163350e-06, 9.9999416e-01],\n",
              "       [3.4272933e-20, 1.0000000e+00],\n",
              "       ...,\n",
              "       [9.2627281e-01, 7.3727168e-02],\n",
              "       [9.9999964e-01, 3.7463840e-07],\n",
              "       [1.2652876e-20, 1.0000000e+00]], dtype=float32)"
            ]
          },
          "metadata": {
            "tags": []
          },
          "execution_count": 19
        }
      ]
    },
    {
      "cell_type": "code",
      "metadata": {
        "id": "d6zOhLuID0qP"
      },
      "source": [
        "import numpy as np\n",
        "y_pred = np.argmax(y_pred, axis=1)"
      ],
      "execution_count": null,
      "outputs": []
    },
    {
      "cell_type": "code",
      "metadata": {
        "colab": {
          "base_uri": "https://localhost:8080/"
        },
        "id": "jvJLmbV4D0tH",
        "outputId": "1be538e2-0a1d-451c-8130-45e6a414f78e"
      },
      "source": [
        "y_pred"
      ],
      "execution_count": null,
      "outputs": [
        {
          "output_type": "execute_result",
          "data": {
            "text/plain": [
              "array([1, 1, 1, 1, 1, 0, 1, 0, 1, 1, 0, 0, 1, 0, 0, 1, 1, 1, 0, 1, 0, 0,\n",
              "       1, 0, 0, 1, 1, 1, 1, 0, 0, 0, 0, 0, 1, 0, 1, 1, 1, 1, 1, 1, 0, 0,\n",
              "       0, 0, 1, 0, 1, 0, 0, 0, 1, 0, 1, 1, 1, 1, 0, 1, 1, 0, 1, 0, 0, 1,\n",
              "       1, 0, 1, 1, 1, 0, 0, 1, 1, 1, 1, 0, 0, 1, 1, 0, 1, 0, 0, 0, 1, 0,\n",
              "       1, 1, 0, 0, 1, 1, 1, 0, 1, 1, 1, 0, 1, 0, 1, 1, 1, 1, 1, 0, 1, 1,\n",
              "       0, 1, 1, 0, 1, 1, 1, 1, 1, 0, 1, 0, 1, 1, 0, 0, 1, 0, 1, 0, 0, 1,\n",
              "       0, 1, 0, 1, 0, 0, 1, 1, 1, 0, 1, 0, 1, 0, 0, 0, 1, 1, 1, 1, 1, 0,\n",
              "       1, 0, 1, 1, 1, 1, 1, 1, 0, 1, 1, 1, 1, 0, 1, 0, 0, 0, 0, 0, 0, 0,\n",
              "       1, 0, 0, 0, 1, 1, 1, 1, 1, 1, 1, 1, 0, 0, 0, 0, 1, 1, 0, 0, 0, 0,\n",
              "       0, 0, 0, 0, 0, 0, 0, 1, 1, 1, 0, 0, 1, 0, 0, 1, 0, 0, 1, 0, 1, 1,\n",
              "       0, 0, 0, 1, 1, 1, 1, 1, 0, 1, 0, 1, 0, 1, 1, 0, 0, 0, 1, 1, 0, 1,\n",
              "       0, 1, 1, 0, 1, 0, 1, 1, 0, 1, 1, 0, 1, 0, 0, 1, 0, 0, 0, 1, 1, 0,\n",
              "       0, 0, 0, 1, 1, 1, 0, 0, 0, 1, 0, 1, 0, 0, 1, 0, 0, 0, 1, 1, 1, 1,\n",
              "       0, 1, 1, 1, 1, 1, 1, 1, 0, 1, 1, 0, 0, 0, 1, 0, 0, 0, 1, 1, 1, 1,\n",
              "       1, 1, 0, 0, 1, 0, 1, 1, 0, 0, 1, 1, 0, 1, 1, 1, 1, 1, 1, 0, 1, 1,\n",
              "       1, 0, 1, 0, 0, 0, 0, 0, 1, 0, 1, 0, 1, 1, 1, 0, 1, 1, 1, 0, 1, 0,\n",
              "       0, 1, 1, 1, 1, 0, 1, 0, 1, 0, 0, 1, 1, 1, 1, 0, 0, 1, 1, 1, 0, 0,\n",
              "       0, 0, 1, 0, 1, 0, 0, 1, 1, 1, 1, 1, 1, 0, 1, 0, 1, 1, 0, 1, 1, 0,\n",
              "       0, 1, 0, 0, 0, 1, 1, 1, 1, 1, 1, 1, 0, 1, 0, 0, 1, 0, 1, 0, 1, 0,\n",
              "       1, 1, 0, 1, 0, 0, 0, 1, 0, 1, 0, 0, 0, 0, 0, 1, 0, 1, 1, 1, 0, 0,\n",
              "       0, 1, 1, 1, 1, 0, 0, 1, 1, 0, 0, 1, 1, 1, 1, 1, 1, 0, 0, 0, 0, 1,\n",
              "       1, 0, 1, 1, 1, 0, 0, 0, 1, 0, 1, 0, 0, 1, 0, 1, 1, 0, 1, 0, 1, 0,\n",
              "       1, 0, 0, 1, 1, 1, 1, 1, 1, 0, 0, 0, 0, 1, 1, 1, 0, 1, 1, 1, 0, 0,\n",
              "       1, 1, 0, 0, 1, 1, 1, 0, 1, 1, 1, 1, 0, 1, 1, 1, 0, 1, 0, 1, 0, 0,\n",
              "       0, 1, 1, 0, 1, 0, 0, 1, 1, 0, 1, 1, 1, 1, 1, 1, 1, 0, 1, 0, 0, 1,\n",
              "       1, 0, 1, 0, 1, 0, 1, 1, 0, 1, 0, 0, 1, 0, 0, 0, 1, 1, 1, 0, 1, 1,\n",
              "       0, 1, 0, 1, 1, 0, 0, 1, 0, 1, 1, 1, 1, 1, 0, 0, 0, 1, 1, 1, 0, 0,\n",
              "       1, 1, 1, 0, 0, 1])"
            ]
          },
          "metadata": {
            "tags": []
          },
          "execution_count": 21
        }
      ]
    },
    {
      "cell_type": "code",
      "metadata": {
        "id": "Y6ye7zkED0zB"
      },
      "source": [
        "model=load_model('model_cnn.h5')"
      ],
      "execution_count": null,
      "outputs": []
    },
    {
      "cell_type": "code",
      "metadata": {
        "id": "zW0LT4ouD0-n"
      },
      "source": [
        "img=image.load_img('/content/drive/MyDrive/Covid19/test/not affected/NORMAL_1219.png',target_size=(224,224))"
      ],
      "execution_count": null,
      "outputs": []
    },
    {
      "cell_type": "code",
      "metadata": {
        "colab": {
          "base_uri": "https://localhost:8080/"
        },
        "id": "2jRkI6s0D1B4",
        "outputId": "6a9f5236-6b38-49e5-8523-29ac1db57d7d"
      },
      "source": [
        "x=image.img_to_array(img)\n",
        "x"
      ],
      "execution_count": null,
      "outputs": [
        {
          "output_type": "execute_result",
          "data": {
            "text/plain": [
              "array([[[  2.,   2.,   2.],\n",
              "        [248., 248., 248.],\n",
              "        [252., 252., 252.],\n",
              "        ...,\n",
              "        [  6.,   6.,   6.],\n",
              "        [  3.,   3.,   3.],\n",
              "        [  2.,   2.,   2.]],\n",
              "\n",
              "       [[ 44.,  44.,  44.],\n",
              "        [  3.,   3.,   3.],\n",
              "        [  0.,   0.,   0.],\n",
              "        ...,\n",
              "        [  5.,   5.,   5.],\n",
              "        [  2.,   2.,   2.],\n",
              "        [  1.,   1.,   1.]],\n",
              "\n",
              "       [[207., 207., 207.],\n",
              "        [  1.,   1.,   1.],\n",
              "        [  0.,   0.,   0.],\n",
              "        ...,\n",
              "        [  4.,   4.,   4.],\n",
              "        [  1.,   1.,   1.],\n",
              "        [  0.,   0.,   0.]],\n",
              "\n",
              "       ...,\n",
              "\n",
              "       [[  0.,   0.,   0.],\n",
              "        [  0.,   0.,   0.],\n",
              "        [  0.,   0.,   0.],\n",
              "        ...,\n",
              "        [  0.,   0.,   0.],\n",
              "        [  0.,   0.,   0.],\n",
              "        [  0.,   0.,   0.]],\n",
              "\n",
              "       [[  0.,   0.,   0.],\n",
              "        [  0.,   0.,   0.],\n",
              "        [  0.,   0.,   0.],\n",
              "        ...,\n",
              "        [  0.,   0.,   0.],\n",
              "        [  0.,   0.,   0.],\n",
              "        [  0.,   0.,   0.]],\n",
              "\n",
              "       [[  0.,   0.,   0.],\n",
              "        [  0.,   0.,   0.],\n",
              "        [  0.,   0.,   0.],\n",
              "        ...,\n",
              "        [  0.,   0.,   0.],\n",
              "        [  0.,   0.,   0.],\n",
              "        [  0.,   0.,   0.]]], dtype=float32)"
            ]
          },
          "metadata": {
            "tags": []
          },
          "execution_count": 24
        }
      ]
    },
    {
      "cell_type": "code",
      "metadata": {
        "colab": {
          "base_uri": "https://localhost:8080/"
        },
        "id": "er6ih-sqEoaO",
        "outputId": "a1fddb26-1da8-4809-cf4b-adc56f7e909e"
      },
      "source": [
        "x.shape"
      ],
      "execution_count": null,
      "outputs": [
        {
          "output_type": "execute_result",
          "data": {
            "text/plain": [
              "(224, 224, 3)"
            ]
          },
          "metadata": {
            "tags": []
          },
          "execution_count": 25
        }
      ]
    },
    {
      "cell_type": "code",
      "metadata": {
        "id": "JgqY-nDBEodY"
      },
      "source": [
        "x=x/255"
      ],
      "execution_count": null,
      "outputs": []
    },
    {
      "cell_type": "code",
      "metadata": {
        "id": "bGejGAqWEogG"
      },
      "source": [
        "import numpy as np\n",
        "x=np.expand_dims(x,axis=0)\n",
        "result = model.predict(x)"
      ],
      "execution_count": null,
      "outputs": []
    },
    {
      "cell_type": "code",
      "metadata": {
        "colab": {
          "base_uri": "https://localhost:8080/"
        },
        "id": "XpGRyhUAEoph",
        "outputId": "fd525343-1cfd-43ed-ffe8-96c0d3f08898"
      },
      "source": [
        "result"
      ],
      "execution_count": null,
      "outputs": [
        {
          "output_type": "execute_result",
          "data": {
            "text/plain": [
              "array([[9.994307e-18, 1.000000e+00]], dtype=float32)"
            ]
          },
          "metadata": {
            "tags": []
          },
          "execution_count": 28
        }
      ]
    },
    {
      "cell_type": "code",
      "metadata": {
        "id": "se3UnHnmEw97",
        "colab": {
          "base_uri": "https://localhost:8080/"
        },
        "outputId": "af3cc3e5-1118-447a-9030-0138e22afdab"
      },
      "source": [
        "a=np.argmax(model.predict(x), axis=1)\n",
        "a"
      ],
      "execution_count": null,
      "outputs": [
        {
          "output_type": "execute_result",
          "data": {
            "text/plain": [
              "array([1])"
            ]
          },
          "metadata": {
            "tags": []
          },
          "execution_count": 29
        }
      ]
    },
    {
      "cell_type": "code",
      "metadata": {
        "colab": {
          "base_uri": "https://localhost:8080/"
        },
        "id": "jycy6ZFyExBE",
        "outputId": "f472992c-b848-44a4-fc1b-ac8a6f205c33"
      },
      "source": [
        "if(a==0):\n",
        "    print(\"affected\")\n",
        "else:\n",
        "    print(\"Uninfected\")"
      ],
      "execution_count": null,
      "outputs": [
        {
          "output_type": "stream",
          "text": [
            "Uninfected\n"
          ],
          "name": "stdout"
        }
      ]
    },
    {
      "cell_type": "code",
      "metadata": {
        "id": "d-WpaiIWEoyD"
      },
      "source": [
        ""
      ],
      "execution_count": null,
      "outputs": []
    }
  ]
}