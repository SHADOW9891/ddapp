{
 "cells": [
  {
   "cell_type": "markdown",
   "id": "c0dbbc7f",
   "metadata": {},
   "source": [
    "# Data Pre-Processing"
   ]
  },
  {
   "cell_type": "markdown",
   "id": "6c8d77fa",
   "metadata": {},
   "source": [
    "### Import required libraries"
   ]
  },
  {
   "cell_type": "code",
   "execution_count": 265,
   "id": "6202fdbb",
   "metadata": {},
   "outputs": [],
   "source": [
    "import numpy as np\n",
    "import pandas as pd\n",
    "import matplotlib.pyplot as plt\n",
    "%matplotlib inline\n",
    "import seaborn as sns\n",
    "from scipy import stats\n",
    "%matplotlib inline\n",
    "import warnings\n",
    "warnings.filterwarnings('ignore')"
   ]
  },
  {
   "cell_type": "markdown",
   "id": "12d530f9",
   "metadata": {},
   "source": [
    "### Import the dataset"
   ]
  },
  {
   "cell_type": "code",
   "execution_count": 266,
   "id": "09e78c81",
   "metadata": {},
   "outputs": [],
   "source": [
    "dframe = pd.read_csv('C:\\\\Users\\\\SHADOW\\\\Project\\\\Disease\\\\Datasets\\\\heart_state.csv')"
   ]
  },
  {
   "cell_type": "code",
   "execution_count": 267,
   "id": "6c651d0b",
   "metadata": {},
   "outputs": [
    {
     "data": {
      "text/html": [
       "<div>\n",
       "<style scoped>\n",
       "    .dataframe tbody tr th:only-of-type {\n",
       "        vertical-align: middle;\n",
       "    }\n",
       "\n",
       "    .dataframe tbody tr th {\n",
       "        vertical-align: top;\n",
       "    }\n",
       "\n",
       "    .dataframe thead th {\n",
       "        text-align: right;\n",
       "    }\n",
       "</style>\n",
       "<table border=\"1\" class=\"dataframe\">\n",
       "  <thead>\n",
       "    <tr style=\"text-align: right;\">\n",
       "      <th></th>\n",
       "      <th>age</th>\n",
       "      <th>sex</th>\n",
       "      <th>chest pain type</th>\n",
       "      <th>resting bp s</th>\n",
       "      <th>cholesterol</th>\n",
       "      <th>fasting blood sugar</th>\n",
       "      <th>resting ecg</th>\n",
       "      <th>max heart rate</th>\n",
       "      <th>exercise angina</th>\n",
       "      <th>oldpeak</th>\n",
       "      <th>ST slope</th>\n",
       "      <th>target</th>\n",
       "    </tr>\n",
       "  </thead>\n",
       "  <tbody>\n",
       "    <tr>\n",
       "      <th>0</th>\n",
       "      <td>40</td>\n",
       "      <td>1</td>\n",
       "      <td>2</td>\n",
       "      <td>140</td>\n",
       "      <td>289</td>\n",
       "      <td>0</td>\n",
       "      <td>0</td>\n",
       "      <td>172</td>\n",
       "      <td>0</td>\n",
       "      <td>0.0</td>\n",
       "      <td>1</td>\n",
       "      <td>0</td>\n",
       "    </tr>\n",
       "    <tr>\n",
       "      <th>1</th>\n",
       "      <td>49</td>\n",
       "      <td>0</td>\n",
       "      <td>3</td>\n",
       "      <td>160</td>\n",
       "      <td>180</td>\n",
       "      <td>0</td>\n",
       "      <td>0</td>\n",
       "      <td>156</td>\n",
       "      <td>0</td>\n",
       "      <td>1.0</td>\n",
       "      <td>2</td>\n",
       "      <td>1</td>\n",
       "    </tr>\n",
       "    <tr>\n",
       "      <th>2</th>\n",
       "      <td>37</td>\n",
       "      <td>1</td>\n",
       "      <td>2</td>\n",
       "      <td>130</td>\n",
       "      <td>283</td>\n",
       "      <td>0</td>\n",
       "      <td>1</td>\n",
       "      <td>98</td>\n",
       "      <td>0</td>\n",
       "      <td>0.0</td>\n",
       "      <td>1</td>\n",
       "      <td>0</td>\n",
       "    </tr>\n",
       "    <tr>\n",
       "      <th>3</th>\n",
       "      <td>48</td>\n",
       "      <td>0</td>\n",
       "      <td>4</td>\n",
       "      <td>138</td>\n",
       "      <td>214</td>\n",
       "      <td>0</td>\n",
       "      <td>0</td>\n",
       "      <td>108</td>\n",
       "      <td>1</td>\n",
       "      <td>1.5</td>\n",
       "      <td>2</td>\n",
       "      <td>1</td>\n",
       "    </tr>\n",
       "    <tr>\n",
       "      <th>4</th>\n",
       "      <td>54</td>\n",
       "      <td>1</td>\n",
       "      <td>3</td>\n",
       "      <td>150</td>\n",
       "      <td>195</td>\n",
       "      <td>0</td>\n",
       "      <td>0</td>\n",
       "      <td>122</td>\n",
       "      <td>0</td>\n",
       "      <td>0.0</td>\n",
       "      <td>1</td>\n",
       "      <td>0</td>\n",
       "    </tr>\n",
       "  </tbody>\n",
       "</table>\n",
       "</div>"
      ],
      "text/plain": [
       "   age  sex  chest pain type  resting bp s  cholesterol  fasting blood sugar  \\\n",
       "0   40    1                2           140          289                    0   \n",
       "1   49    0                3           160          180                    0   \n",
       "2   37    1                2           130          283                    0   \n",
       "3   48    0                4           138          214                    0   \n",
       "4   54    1                3           150          195                    0   \n",
       "\n",
       "   resting ecg  max heart rate  exercise angina  oldpeak  ST slope  target  \n",
       "0            0             172                0      0.0         1       0  \n",
       "1            0             156                0      1.0         2       1  \n",
       "2            1              98                0      0.0         1       0  \n",
       "3            0             108                1      1.5         2       1  \n",
       "4            0             122                0      0.0         1       0  "
      ]
     },
     "execution_count": 267,
     "metadata": {},
     "output_type": "execute_result"
    }
   ],
   "source": [
    "dframe.head()"
   ]
  },
  {
   "cell_type": "code",
   "execution_count": 268,
   "id": "ca85f988",
   "metadata": {},
   "outputs": [
    {
     "data": {
      "text/plain": [
       "(1190, 12)"
      ]
     },
     "execution_count": 268,
     "metadata": {},
     "output_type": "execute_result"
    }
   ],
   "source": [
    "dframe.shape"
   ]
  },
  {
   "cell_type": "code",
   "execution_count": 269,
   "id": "29b746dd",
   "metadata": {},
   "outputs": [
    {
     "data": {
      "text/plain": [
       "age                      int64\n",
       "sex                      int64\n",
       "chest pain type          int64\n",
       "resting bp s             int64\n",
       "cholesterol              int64\n",
       "fasting blood sugar      int64\n",
       "resting ecg              int64\n",
       "max heart rate           int64\n",
       "exercise angina          int64\n",
       "oldpeak                float64\n",
       "ST slope                 int64\n",
       "target                   int64\n",
       "dtype: object"
      ]
     },
     "execution_count": 269,
     "metadata": {},
     "output_type": "execute_result"
    }
   ],
   "source": [
    "dframe.dtypes"
   ]
  },
  {
   "cell_type": "markdown",
   "id": "63d6c3bc",
   "metadata": {},
   "source": [
    "### Rename the columns"
   ]
  },
  {
   "cell_type": "code",
   "execution_count": 271,
   "id": "d29cd666",
   "metadata": {},
   "outputs": [],
   "source": [
    "dframe = dframe.rename(columns = {'chest pain type' : 'chest_pain',\n",
    "                                  'resting bp s' : 'blood_pressure',\n",
    "                                  'fasting blood sugar' : 'blood_sugar',\n",
    "                                  'resting ecg' : 'ECG_result',\n",
    "                                  'max heart rate' : 'max_HR',\n",
    "                                  'exercise angina' : 'exercise_angina',\n",
    "                                  'oldpeak' : 'ST_depression',\n",
    "                                  'ST slope' : 'slope_of_ST',})"
   ]
  },
  {
   "cell_type": "code",
   "execution_count": 272,
   "id": "797583d0",
   "metadata": {},
   "outputs": [
    {
     "data": {
      "text/html": [
       "<div>\n",
       "<style scoped>\n",
       "    .dataframe tbody tr th:only-of-type {\n",
       "        vertical-align: middle;\n",
       "    }\n",
       "\n",
       "    .dataframe tbody tr th {\n",
       "        vertical-align: top;\n",
       "    }\n",
       "\n",
       "    .dataframe thead th {\n",
       "        text-align: right;\n",
       "    }\n",
       "</style>\n",
       "<table border=\"1\" class=\"dataframe\">\n",
       "  <thead>\n",
       "    <tr style=\"text-align: right;\">\n",
       "      <th></th>\n",
       "      <th>age</th>\n",
       "      <th>sex</th>\n",
       "      <th>chest_pain</th>\n",
       "      <th>blood_pressure</th>\n",
       "      <th>cholesterol</th>\n",
       "      <th>blood_sugar</th>\n",
       "      <th>ECG_result</th>\n",
       "      <th>max_HR</th>\n",
       "      <th>exercise_angina</th>\n",
       "      <th>ST_depression</th>\n",
       "      <th>slope_of_ST</th>\n",
       "      <th>target</th>\n",
       "    </tr>\n",
       "  </thead>\n",
       "  <tbody>\n",
       "    <tr>\n",
       "      <th>0</th>\n",
       "      <td>40</td>\n",
       "      <td>1</td>\n",
       "      <td>2</td>\n",
       "      <td>140</td>\n",
       "      <td>289</td>\n",
       "      <td>0</td>\n",
       "      <td>0</td>\n",
       "      <td>172</td>\n",
       "      <td>0</td>\n",
       "      <td>0.0</td>\n",
       "      <td>1</td>\n",
       "      <td>0</td>\n",
       "    </tr>\n",
       "    <tr>\n",
       "      <th>1</th>\n",
       "      <td>49</td>\n",
       "      <td>0</td>\n",
       "      <td>3</td>\n",
       "      <td>160</td>\n",
       "      <td>180</td>\n",
       "      <td>0</td>\n",
       "      <td>0</td>\n",
       "      <td>156</td>\n",
       "      <td>0</td>\n",
       "      <td>1.0</td>\n",
       "      <td>2</td>\n",
       "      <td>1</td>\n",
       "    </tr>\n",
       "    <tr>\n",
       "      <th>2</th>\n",
       "      <td>37</td>\n",
       "      <td>1</td>\n",
       "      <td>2</td>\n",
       "      <td>130</td>\n",
       "      <td>283</td>\n",
       "      <td>0</td>\n",
       "      <td>1</td>\n",
       "      <td>98</td>\n",
       "      <td>0</td>\n",
       "      <td>0.0</td>\n",
       "      <td>1</td>\n",
       "      <td>0</td>\n",
       "    </tr>\n",
       "    <tr>\n",
       "      <th>3</th>\n",
       "      <td>48</td>\n",
       "      <td>0</td>\n",
       "      <td>4</td>\n",
       "      <td>138</td>\n",
       "      <td>214</td>\n",
       "      <td>0</td>\n",
       "      <td>0</td>\n",
       "      <td>108</td>\n",
       "      <td>1</td>\n",
       "      <td>1.5</td>\n",
       "      <td>2</td>\n",
       "      <td>1</td>\n",
       "    </tr>\n",
       "    <tr>\n",
       "      <th>4</th>\n",
       "      <td>54</td>\n",
       "      <td>1</td>\n",
       "      <td>3</td>\n",
       "      <td>150</td>\n",
       "      <td>195</td>\n",
       "      <td>0</td>\n",
       "      <td>0</td>\n",
       "      <td>122</td>\n",
       "      <td>0</td>\n",
       "      <td>0.0</td>\n",
       "      <td>1</td>\n",
       "      <td>0</td>\n",
       "    </tr>\n",
       "  </tbody>\n",
       "</table>\n",
       "</div>"
      ],
      "text/plain": [
       "   age  sex  chest_pain  blood_pressure  cholesterol  blood_sugar  ECG_result  \\\n",
       "0   40    1           2             140          289            0           0   \n",
       "1   49    0           3             160          180            0           0   \n",
       "2   37    1           2             130          283            0           1   \n",
       "3   48    0           4             138          214            0           0   \n",
       "4   54    1           3             150          195            0           0   \n",
       "\n",
       "   max_HR  exercise_angina  ST_depression  slope_of_ST  target  \n",
       "0     172                0            0.0            1       0  \n",
       "1     156                0            1.0            2       1  \n",
       "2      98                0            0.0            1       0  \n",
       "3     108                1            1.5            2       1  \n",
       "4     122                0            0.0            1       0  "
      ]
     },
     "execution_count": 272,
     "metadata": {},
     "output_type": "execute_result"
    }
   ],
   "source": [
    "dframe.head()"
   ]
  },
  {
   "cell_type": "markdown",
   "id": "bc823ced",
   "metadata": {},
   "source": [
    "### Feature Engineering"
   ]
  },
  {
   "cell_type": "code",
   "execution_count": 274,
   "id": "ad14c44f",
   "metadata": {
    "scrolled": false
   },
   "outputs": [
    {
     "data": {
      "text/plain": [
       "age                0\n",
       "sex                0\n",
       "chest_pain         0\n",
       "blood_pressure     0\n",
       "cholesterol        0\n",
       "blood_sugar        0\n",
       "ECG_result         0\n",
       "max_HR             0\n",
       "exercise_angina    0\n",
       "ST_depression      0\n",
       "slope_of_ST        0\n",
       "target             0\n",
       "dtype: int64"
      ]
     },
     "execution_count": 274,
     "metadata": {},
     "output_type": "execute_result"
    }
   ],
   "source": [
    "dframe.isnull().sum()"
   ]
  },
  {
   "cell_type": "markdown",
   "id": "d1b724cd",
   "metadata": {},
   "source": [
    "**Removing Outliers**"
   ]
  },
  {
   "cell_type": "code",
   "execution_count": 275,
   "id": "331253d5",
   "metadata": {},
   "outputs": [
    {
     "data": {
      "image/png": "[encoded data removed]",
      "text/plain": [
       "<Figure size 1440x1440 with 1 Axes>"
      ]
     },
     "metadata": {
      "needs_background": "light"
     },
     "output_type": "display_data"
    }
   ],
   "source": [
    "plt.figure(figsize=(20,20))\n",
    "ax = sns.boxplot(data=dframe)"
   ]
  },
  {
   "cell_type": "code",
   "execution_count": 276,
   "id": "39f30561",
   "metadata": {},
   "outputs": [
    {
     "name": "stdout",
     "output_type": "stream",
     "text": [
      "[[1.46672783 0.55599543 1.31835093 ... 0.84979236 1.02321701 1.05887304]\n",
      " [0.50460037 1.79857595 0.24893198 ... 0.07111913 0.61558278 0.94440028]\n",
      " [1.78743698 0.55599543 1.31835093 ... 0.84979236 1.02321701 1.05887304]\n",
      " ...\n",
      " [0.35062404 0.55599543 0.82048698 ... 0.25530143 0.61558278 0.94440028]\n",
      " [0.35062404 1.79857595 1.31835093 ... 0.84979236 0.61558278 0.94440028]\n",
      " [1.68053393 0.55599543 0.24893198 ... 0.84979236 1.02321701 1.05887304]]\n"
     ]
    }
   ],
   "source": [
    "#z_score\n",
    "z = np.abs(stats.zscore(dframe))\n",
    "print(z)"
   ]
  },
  {
   "cell_type": "code",
   "execution_count": 277,
   "id": "10e1fa15",
   "metadata": {},
   "outputs": [
    {
     "name": "stdout",
     "output_type": "stream",
     "text": [
      "age                13.00\n",
      "sex                 0.00\n",
      "chest_pain          1.00\n",
      "blood_pressure     20.00\n",
      "cholesterol        81.75\n",
      "blood_sugar         0.00\n",
      "ECG_result          2.00\n",
      "max_HR             39.00\n",
      "exercise_angina     1.00\n",
      "ST_depression       1.60\n",
      "slope_of_ST         1.00\n",
      "target              1.00\n",
      "dtype: float64\n"
     ]
    }
   ],
   "source": [
    "#Quartiles\n",
    "Q1 = dframe.quantile(0.25)\n",
    "Q3 = dframe.quantile(0.75)\n",
    "IQR = Q3 - Q1\n",
    "print(IQR)"
   ]
  },
  {
   "cell_type": "code",
   "execution_count": 278,
   "id": "bdc176d5",
   "metadata": {},
   "outputs": [
    {
     "data": {
      "text/plain": [
       "(1162, 12)"
      ]
     },
     "execution_count": 278,
     "metadata": {},
     "output_type": "execute_result"
    }
   ],
   "source": [
    "dframe = dframe[(z < 3).all(axis=1)]\n",
    "dframe.shape"
   ]
  },
  {
   "cell_type": "code",
   "execution_count": 279,
   "id": "b103d6e7",
   "metadata": {},
   "outputs": [
    {
     "data": {
      "text/plain": [
       "(559, 12)"
      ]
     },
     "execution_count": 279,
     "metadata": {},
     "output_type": "execute_result"
    }
   ],
   "source": [
    "dframe = dframe[~((dframe < (Q1 - 1.5 * IQR)) |(dframe > (Q3 + 1.5 * IQR))).any(axis=1)]\n",
    "dframe.shape"
   ]
  },
  {
   "cell_type": "code",
   "execution_count": 280,
   "id": "3d461077",
   "metadata": {},
   "outputs": [
    {
     "data": {
      "image/png": "[encoded data removed]",
      "text/plain": [
       "<Figure size 1080x1080 with 1 Axes>"
      ]
     },
     "metadata": {
      "needs_background": "light"
     },
     "output_type": "display_data"
    }
   ],
   "source": [
    "plt.figure(figsize=(15,15))\n",
    "ax = sns.boxplot(data=dframe)"
   ]
  },
  {
   "cell_type": "markdown",
   "id": "59b3d644",
   "metadata": {},
   "source": [
    "### Feature Selection"
   ]
  },
  {
   "cell_type": "markdown",
   "id": "e76e6739",
   "metadata": {},
   "source": [
    "**Heatmap showing correlation**"
   ]
  },
  {
   "cell_type": "code",
   "execution_count": 281,
   "id": "92837279",
   "metadata": {},
   "outputs": [
    {
     "data": {
      "image/png": "[encoded data removed]",
      "text/plain": [
       "<Figure size 1440x1440 with 2 Axes>"
      ]
     },
     "metadata": {
      "needs_background": "light"
     },
     "output_type": "display_data"
    }
   ],
   "source": [
    "plt.figure(figsize=(20,20))\n",
    "d = sns.heatmap(dframe.corr(),cmap=\"coolwarm\",annot= True)"
   ]
  },
  {
   "cell_type": "markdown",
   "id": "16dc420a",
   "metadata": {},
   "source": [
    "_Check whether the target column has approximately equal number zero's and one's_"
   ]
  },
  {
   "cell_type": "code",
   "execution_count": 283,
   "id": "37858202",
   "metadata": {},
   "outputs": [
    {
     "data": {
      "text/plain": [
       "<AxesSubplot:xlabel='target', ylabel='count'>"
      ]
     },
     "execution_count": 283,
     "metadata": {},
     "output_type": "execute_result"
    },
    {
     "data": {
      "image/png": "[encoded data removed]",
      "text/plain": [
       "<Figure size 432x288 with 1 Axes>"
      ]
     },
     "metadata": {},
     "output_type": "display_data"
    }
   ],
   "source": [
    "sns.set_style('whitegrid')\n",
    "sns.countplot(x='target',data=dframe)"
   ]
  },
  {
   "cell_type": "markdown",
   "id": "424946e0",
   "metadata": {},
   "source": [
    "Some statistical features:"
   ]
  },
  {
   "cell_type": "code",
   "execution_count": 284,
   "id": "5ef2c600",
   "metadata": {
    "scrolled": true
   },
   "outputs": [
    {
     "data": {
      "text/html": [
       "<div>\n",
       "<style scoped>\n",
       "    .dataframe tbody tr th:only-of-type {\n",
       "        vertical-align: middle;\n",
       "    }\n",
       "\n",
       "    .dataframe tbody tr th {\n",
       "        vertical-align: top;\n",
       "    }\n",
       "\n",
       "    .dataframe thead th {\n",
       "        text-align: right;\n",
       "    }\n",
       "</style>\n",
       "<table border=\"1\" class=\"dataframe\">\n",
       "  <thead>\n",
       "    <tr style=\"text-align: right;\">\n",
       "      <th></th>\n",
       "      <th>age</th>\n",
       "      <th>chest_pain</th>\n",
       "      <th>blood_pressure</th>\n",
       "      <th>cholesterol</th>\n",
       "      <th>ECG_result</th>\n",
       "      <th>max_HR</th>\n",
       "      <th>exercise_angina</th>\n",
       "      <th>ST_depression</th>\n",
       "      <th>slope_of_ST</th>\n",
       "      <th>target</th>\n",
       "    </tr>\n",
       "  </thead>\n",
       "  <tbody>\n",
       "    <tr>\n",
       "      <th>count</th>\n",
       "      <td>559.000000</td>\n",
       "      <td>559.000000</td>\n",
       "      <td>559.000000</td>\n",
       "      <td>559.000000</td>\n",
       "      <td>559.000000</td>\n",
       "      <td>559.000000</td>\n",
       "      <td>559.000000</td>\n",
       "      <td>559.000000</td>\n",
       "      <td>559.000000</td>\n",
       "      <td>559.000000</td>\n",
       "    </tr>\n",
       "    <tr>\n",
       "      <th>mean</th>\n",
       "      <td>52.368515</td>\n",
       "      <td>3.363148</td>\n",
       "      <td>130.184258</td>\n",
       "      <td>238.905188</td>\n",
       "      <td>0.677996</td>\n",
       "      <td>140.581395</td>\n",
       "      <td>0.423971</td>\n",
       "      <td>0.964222</td>\n",
       "      <td>1.576029</td>\n",
       "      <td>0.542039</td>\n",
       "    </tr>\n",
       "    <tr>\n",
       "      <th>std</th>\n",
       "      <td>9.470581</td>\n",
       "      <td>0.802417</td>\n",
       "      <td>14.972617</td>\n",
       "      <td>48.161913</td>\n",
       "      <td>0.888032</td>\n",
       "      <td>24.967077</td>\n",
       "      <td>0.494628</td>\n",
       "      <td>1.074621</td>\n",
       "      <td>0.590424</td>\n",
       "      <td>0.498676</td>\n",
       "    </tr>\n",
       "    <tr>\n",
       "      <th>min</th>\n",
       "      <td>28.000000</td>\n",
       "      <td>2.000000</td>\n",
       "      <td>92.000000</td>\n",
       "      <td>85.000000</td>\n",
       "      <td>0.000000</td>\n",
       "      <td>71.000000</td>\n",
       "      <td>0.000000</td>\n",
       "      <td>-0.100000</td>\n",
       "      <td>1.000000</td>\n",
       "      <td>0.000000</td>\n",
       "    </tr>\n",
       "    <tr>\n",
       "      <th>25%</th>\n",
       "      <td>45.000000</td>\n",
       "      <td>3.000000</td>\n",
       "      <td>120.000000</td>\n",
       "      <td>207.000000</td>\n",
       "      <td>0.000000</td>\n",
       "      <td>122.000000</td>\n",
       "      <td>0.000000</td>\n",
       "      <td>0.000000</td>\n",
       "      <td>1.000000</td>\n",
       "      <td>0.000000</td>\n",
       "    </tr>\n",
       "    <tr>\n",
       "      <th>50%</th>\n",
       "      <td>53.000000</td>\n",
       "      <td>4.000000</td>\n",
       "      <td>130.000000</td>\n",
       "      <td>235.000000</td>\n",
       "      <td>0.000000</td>\n",
       "      <td>140.000000</td>\n",
       "      <td>0.000000</td>\n",
       "      <td>0.600000</td>\n",
       "      <td>2.000000</td>\n",
       "      <td>1.000000</td>\n",
       "    </tr>\n",
       "    <tr>\n",
       "      <th>75%</th>\n",
       "      <td>59.000000</td>\n",
       "      <td>4.000000</td>\n",
       "      <td>140.000000</td>\n",
       "      <td>271.000000</td>\n",
       "      <td>2.000000</td>\n",
       "      <td>160.000000</td>\n",
       "      <td>1.000000</td>\n",
       "      <td>1.800000</td>\n",
       "      <td>2.000000</td>\n",
       "      <td>1.000000</td>\n",
       "    </tr>\n",
       "    <tr>\n",
       "      <th>max</th>\n",
       "      <td>77.000000</td>\n",
       "      <td>4.000000</td>\n",
       "      <td>170.000000</td>\n",
       "      <td>388.000000</td>\n",
       "      <td>2.000000</td>\n",
       "      <td>202.000000</td>\n",
       "      <td>1.000000</td>\n",
       "      <td>4.000000</td>\n",
       "      <td>3.000000</td>\n",
       "      <td>1.000000</td>\n",
       "    </tr>\n",
       "  </tbody>\n",
       "</table>\n",
       "</div>"
      ],
      "text/plain": [
       "              age  chest_pain  blood_pressure  cholesterol  ECG_result  \\\n",
       "count  559.000000  559.000000      559.000000   559.000000  559.000000   \n",
       "mean    52.368515    3.363148      130.184258   238.905188    0.677996   \n",
       "std      9.470581    0.802417       14.972617    48.161913    0.888032   \n",
       "min     28.000000    2.000000       92.000000    85.000000    0.000000   \n",
       "25%     45.000000    3.000000      120.000000   207.000000    0.000000   \n",
       "50%     53.000000    4.000000      130.000000   235.000000    0.000000   \n",
       "75%     59.000000    4.000000      140.000000   271.000000    2.000000   \n",
       "max     77.000000    4.000000      170.000000   388.000000    2.000000   \n",
       "\n",
       "           max_HR  exercise_angina  ST_depression  slope_of_ST      target  \n",
       "count  559.000000       559.000000     559.000000   559.000000  559.000000  \n",
       "mean   140.581395         0.423971       0.964222     1.576029    0.542039  \n",
       "std     24.967077         0.494628       1.074621     0.590424    0.498676  \n",
       "min     71.000000         0.000000      -0.100000     1.000000    0.000000  \n",
       "25%    122.000000         0.000000       0.000000     1.000000    0.000000  \n",
       "50%    140.000000         0.000000       0.600000     2.000000    1.000000  \n",
       "75%    160.000000         1.000000       1.800000     2.000000    1.000000  \n",
       "max    202.000000         1.000000       4.000000     3.000000    1.000000  "
      ]
     },
     "execution_count": 284,
     "metadata": {},
     "output_type": "execute_result"
    }
   ],
   "source": [
    "dframe.describe()"
   ]
  },
  {
   "cell_type": "markdown",
   "id": "c5bf2f16",
   "metadata": {},
   "source": [
    "### Type of Values in Each Columns \n",
    "\n",
    "* age ------ age in years\n",
    "* sex ------ 1 = male, 0 = female\n",
    "* chest pain ------ 1 = typical angina, 2 = atypical angina, 3 = non-anginal pain, 4 = asymptomatic\n",
    "* blood_pressure ------ 92 to 170\n",
    "* cholesterol ------ 85 to 388 in mg/dl\n",
    "* blood_sugar ------ (is >120 mg/dl) (1 = true; 0 = false)\n",
    "* ECG_result ------ 1 = normal, 2 = having ST-T wave abnormality , 3 = showing probable/definite left ventricular hypertrophy\n",
    "* max_HR ------ 71 to 202\n",
    "* exercise_angina ------ (1 = yes; 0 = no)\n",
    "* ST_depression ------ -0.1 to 4.0\n",
    "* slope_of_ST ------ 1 = upsloping, 2 = flat, 3 = downsloping\n"
   ]
  },
  {
   "cell_type": "markdown",
   "id": "466f091d",
   "metadata": {},
   "source": [
    "**Find the categorical Features**"
   ]
  },
  {
   "cell_type": "code",
   "execution_count": 285,
   "id": "0a94be53",
   "metadata": {},
   "outputs": [
    {
     "data": {
      "text/plain": [
       "array([[<AxesSubplot:title={'center':'age'}>,\n",
       "        <AxesSubplot:title={'center':'chest_pain'}>,\n",
       "        <AxesSubplot:title={'center':'blood_pressure'}>],\n",
       "       [<AxesSubplot:title={'center':'cholesterol'}>,\n",
       "        <AxesSubplot:title={'center':'ECG_result'}>,\n",
       "        <AxesSubplot:title={'center':'max_HR'}>],\n",
       "       [<AxesSubplot:title={'center':'exercise_angina'}>,\n",
       "        <AxesSubplot:title={'center':'ST_depression'}>,\n",
       "        <AxesSubplot:title={'center':'slope_of_ST'}>],\n",
       "       [<AxesSubplot:title={'center':'target'}>, <AxesSubplot:>,\n",
       "        <AxesSubplot:>]], dtype=object)"
      ]
     },
     "execution_count": 285,
     "metadata": {},
     "output_type": "execute_result"
    },
    {
     "data": {
      "image/png": "[encoded data removed]",
      "text/plain": [
       "<Figure size 1080x1080 with 12 Axes>"
      ]
     },
     "metadata": {},
     "output_type": "display_data"
    }
   ],
   "source": [
    "dframe.hist(bins=16, figsize=(15, 15))"
   ]
  },
  {
   "cell_type": "markdown",
   "id": "1a2faa23",
   "metadata": {},
   "source": [
    "All the features are important except sex and blood_sugar"
   ]
  },
  {
   "cell_type": "code",
   "execution_count": 282,
   "id": "2d37471f",
   "metadata": {},
   "outputs": [],
   "source": [
    "dframe.drop(columns = ['sex','blood_sugar'], inplace=True)"
   ]
  },
  {
   "cell_type": "markdown",
   "id": "42c130e8",
   "metadata": {},
   "source": [
    "## Functions"
   ]
  },
  {
   "cell_type": "code",
   "execution_count": 286,
   "id": "c97c1b74",
   "metadata": {},
   "outputs": [],
   "source": [
    "def measures(predictor):\n",
    "\n",
    "    result = confusion_matrix(y_test, predictor)\n",
    "    print(\"Confusion Matrix:\")\n",
    "    print(result)\n",
    "    result1 = classification_report(y_test, predictor)\n",
    "    print(\"Classification Report:\",)\n",
    "    print (result1)\n",
    "    result2 = accuracy_score(y_test, predictor)\n",
    "    print(\"Accuracy:\",result2)"
   ]
  },
  {
   "cell_type": "code",
   "execution_count": 287,
   "id": "2a16d893",
   "metadata": {},
   "outputs": [],
   "source": [
    "def cv_score(object):\n",
    "    score=cross_val_score(object,X_train,y_train,cv=10)\n",
    "    print('Mean score =', score.mean())"
   ]
  },
  {
   "cell_type": "code",
   "execution_count": 288,
   "id": "8aa6fefc",
   "metadata": {},
   "outputs": [],
   "source": [
    "def ROC(object):\n",
    "    #ROC_curve\n",
    "    y_pred_proba = object.predict_proba(X_test)[:,1]\n",
    "    fpr, tpr, thresholds = roc_curve(y_test, y_pred_proba)\n",
    "    \n",
    "    #ROC-AUC\n",
    "    auc = roc_auc_score(y_test, y_pred_proba)\n",
    "    print('ROC-AUC: ', auc)\n",
    "    \n",
    "    #Plot curve\n",
    "    plt.plot([0,1],[0,1],'k--')\n",
    "    plt.plot(fpr,tpr)\n",
    "    plt.xlabel('fpr')\n",
    "    plt.ylabel('tpr')\n",
    "    plt.title('ROC curve')\n",
    "    plt.show()"
   ]
  },
  {
   "cell_type": "markdown",
   "id": "48065570",
   "metadata": {},
   "source": [
    "## Model Selection"
   ]
  },
  {
   "cell_type": "markdown",
   "id": "821bafa6",
   "metadata": {},
   "source": [
    "### Import the libraries"
   ]
  },
  {
   "cell_type": "code",
   "execution_count": 289,
   "id": "ee9eb1f2",
   "metadata": {},
   "outputs": [],
   "source": [
    "import pickle\n",
    "import sklearn\n",
    "from sklearn.model_selection import train_test_split\n",
    "from sklearn.model_selection import cross_val_score\n",
    "from sklearn.model_selection import RandomizedSearchCV\n",
    "from sklearn.metrics import confusion_matrix, classification_report, accuracy_score, roc_curve, roc_auc_score\n",
    "\n",
    "\n",
    "from sklearn.linear_model import LogisticRegression\n",
    "from sklearn.tree import DecisionTreeClassifier\n",
    "from sklearn.ensemble import RandomForestClassifier\n",
    "from sklearn.neighbors import KNeighborsClassifier\n",
    "from sklearn.naive_bayes import GaussianNB\n",
    "from sklearn.svm import SVC"
   ]
  },
  {
   "cell_type": "markdown",
   "id": "42729994",
   "metadata": {},
   "source": [
    "**Encoding categorical features**"
   ]
  },
  {
   "cell_type": "code",
   "execution_count": 290,
   "id": "c1e55d4a",
   "metadata": {},
   "outputs": [],
   "source": [
    "#Encoding\n",
    "\n",
    "dframe = pd.get_dummies(dframe, columns = ['chest_pain', 'ECG_result', 'exercise_angina', 'slope_of_ST'])"
   ]
  },
  {
   "cell_type": "markdown",
   "id": "3ad363d7",
   "metadata": {},
   "source": [
    "Train_Test_Split"
   ]
  },
  {
   "cell_type": "code",
   "execution_count": 291,
   "id": "023bff2d",
   "metadata": {},
   "outputs": [],
   "source": [
    "X = dframe.drop(['target'], axis = 1)\n",
    "y = dframe['target']"
   ]
  },
  {
   "cell_type": "code",
   "execution_count": 292,
   "id": "33c8ad03",
   "metadata": {},
   "outputs": [],
   "source": [
    "X_train, X_test, y_train, y_test = train_test_split(X, y, test_size = 0.3, random_state= 7)"
   ]
  },
  {
   "cell_type": "markdown",
   "id": "14321e30",
   "metadata": {},
   "source": [
    "### Feature Scaling\n",
    "\n",
    "After exploring the dataset, I observed that I need to convert some categorical variables into dummy variables and scale all the values before training the Machine Learning models.\n",
    "_Perform scaling for scalars and encoding for categorical features_"
   ]
  },
  {
   "cell_type": "code",
   "execution_count": 293,
   "id": "da2479a7",
   "metadata": {},
   "outputs": [],
   "source": [
    "#Scaling\n",
    "\n",
    "from sklearn.preprocessing import StandardScaler\n",
    "sc_X = StandardScaler()\n",
    "\n",
    "columns_to_scale = ['age', 'blood_pressure', 'cholesterol', 'max_HR', 'ST_depression']\n",
    "X_train[columns_to_scale] = sc_X.fit_transform(X_train[columns_to_scale])\n",
    "X_test[columns_to_scale] = sc_X.transform(X_test[columns_to_scale])"
   ]
  },
  {
   "cell_type": "code",
   "execution_count": 294,
   "id": "286860b7",
   "metadata": {},
   "outputs": [
    {
     "data": {
      "text/html": [
       "<div>\n",
       "<style scoped>\n",
       "    .dataframe tbody tr th:only-of-type {\n",
       "        vertical-align: middle;\n",
       "    }\n",
       "\n",
       "    .dataframe tbody tr th {\n",
       "        vertical-align: top;\n",
       "    }\n",
       "\n",
       "    .dataframe thead th {\n",
       "        text-align: right;\n",
       "    }\n",
       "</style>\n",
       "<table border=\"1\" class=\"dataframe\">\n",
       "  <thead>\n",
       "    <tr style=\"text-align: right;\">\n",
       "      <th></th>\n",
       "      <th>age</th>\n",
       "      <th>blood_pressure</th>\n",
       "      <th>cholesterol</th>\n",
       "      <th>max_HR</th>\n",
       "      <th>ST_depression</th>\n",
       "      <th>target</th>\n",
       "      <th>chest_pain_2</th>\n",
       "      <th>chest_pain_3</th>\n",
       "      <th>chest_pain_4</th>\n",
       "      <th>ECG_result_0</th>\n",
       "      <th>ECG_result_1</th>\n",
       "      <th>ECG_result_2</th>\n",
       "      <th>exercise_angina_0</th>\n",
       "      <th>exercise_angina_1</th>\n",
       "      <th>slope_of_ST_1</th>\n",
       "      <th>slope_of_ST_2</th>\n",
       "      <th>slope_of_ST_3</th>\n",
       "    </tr>\n",
       "  </thead>\n",
       "  <tbody>\n",
       "    <tr>\n",
       "      <th>0</th>\n",
       "      <td>40</td>\n",
       "      <td>140</td>\n",
       "      <td>289</td>\n",
       "      <td>172</td>\n",
       "      <td>0.0</td>\n",
       "      <td>0</td>\n",
       "      <td>1</td>\n",
       "      <td>0</td>\n",
       "      <td>0</td>\n",
       "      <td>1</td>\n",
       "      <td>0</td>\n",
       "      <td>0</td>\n",
       "      <td>1</td>\n",
       "      <td>0</td>\n",
       "      <td>1</td>\n",
       "      <td>0</td>\n",
       "      <td>0</td>\n",
       "    </tr>\n",
       "    <tr>\n",
       "      <th>2</th>\n",
       "      <td>37</td>\n",
       "      <td>130</td>\n",
       "      <td>283</td>\n",
       "      <td>98</td>\n",
       "      <td>0.0</td>\n",
       "      <td>0</td>\n",
       "      <td>1</td>\n",
       "      <td>0</td>\n",
       "      <td>0</td>\n",
       "      <td>0</td>\n",
       "      <td>1</td>\n",
       "      <td>0</td>\n",
       "      <td>1</td>\n",
       "      <td>0</td>\n",
       "      <td>1</td>\n",
       "      <td>0</td>\n",
       "      <td>0</td>\n",
       "    </tr>\n",
       "    <tr>\n",
       "      <th>4</th>\n",
       "      <td>54</td>\n",
       "      <td>150</td>\n",
       "      <td>195</td>\n",
       "      <td>122</td>\n",
       "      <td>0.0</td>\n",
       "      <td>0</td>\n",
       "      <td>0</td>\n",
       "      <td>1</td>\n",
       "      <td>0</td>\n",
       "      <td>1</td>\n",
       "      <td>0</td>\n",
       "      <td>0</td>\n",
       "      <td>1</td>\n",
       "      <td>0</td>\n",
       "      <td>1</td>\n",
       "      <td>0</td>\n",
       "      <td>0</td>\n",
       "    </tr>\n",
       "    <tr>\n",
       "      <th>5</th>\n",
       "      <td>39</td>\n",
       "      <td>120</td>\n",
       "      <td>339</td>\n",
       "      <td>170</td>\n",
       "      <td>0.0</td>\n",
       "      <td>0</td>\n",
       "      <td>0</td>\n",
       "      <td>1</td>\n",
       "      <td>0</td>\n",
       "      <td>1</td>\n",
       "      <td>0</td>\n",
       "      <td>0</td>\n",
       "      <td>1</td>\n",
       "      <td>0</td>\n",
       "      <td>1</td>\n",
       "      <td>0</td>\n",
       "      <td>0</td>\n",
       "    </tr>\n",
       "    <tr>\n",
       "      <th>7</th>\n",
       "      <td>54</td>\n",
       "      <td>110</td>\n",
       "      <td>208</td>\n",
       "      <td>142</td>\n",
       "      <td>0.0</td>\n",
       "      <td>0</td>\n",
       "      <td>1</td>\n",
       "      <td>0</td>\n",
       "      <td>0</td>\n",
       "      <td>1</td>\n",
       "      <td>0</td>\n",
       "      <td>0</td>\n",
       "      <td>1</td>\n",
       "      <td>0</td>\n",
       "      <td>1</td>\n",
       "      <td>0</td>\n",
       "      <td>0</td>\n",
       "    </tr>\n",
       "  </tbody>\n",
       "</table>\n",
       "</div>"
      ],
      "text/plain": [
       "   age  blood_pressure  cholesterol  max_HR  ST_depression  target  \\\n",
       "0   40             140          289     172            0.0       0   \n",
       "2   37             130          283      98            0.0       0   \n",
       "4   54             150          195     122            0.0       0   \n",
       "5   39             120          339     170            0.0       0   \n",
       "7   54             110          208     142            0.0       0   \n",
       "\n",
       "   chest_pain_2  chest_pain_3  chest_pain_4  ECG_result_0  ECG_result_1  \\\n",
       "0             1             0             0             1             0   \n",
       "2             1             0             0             0             1   \n",
       "4             0             1             0             1             0   \n",
       "5             0             1             0             1             0   \n",
       "7             1             0             0             1             0   \n",
       "\n",
       "   ECG_result_2  exercise_angina_0  exercise_angina_1  slope_of_ST_1  \\\n",
       "0             0                  1                  0              1   \n",
       "2             0                  1                  0              1   \n",
       "4             0                  1                  0              1   \n",
       "5             0                  1                  0              1   \n",
       "7             0                  1                  0              1   \n",
       "\n",
       "   slope_of_ST_2  slope_of_ST_3  \n",
       "0              0              0  \n",
       "2              0              0  \n",
       "4              0              0  \n",
       "5              0              0  \n",
       "7              0              0  "
      ]
     },
     "execution_count": 294,
     "metadata": {},
     "output_type": "execute_result"
    }
   ],
   "source": [
    "dframe.head()"
   ]
  },
  {
   "cell_type": "code",
   "execution_count": 295,
   "id": "0e08854b",
   "metadata": {},
   "outputs": [],
   "source": [
    "Encoded = dframe.to_csv('encoded.csv')"
   ]
  },
  {
   "cell_type": "code",
   "execution_count": 296,
   "id": "ccd377da",
   "metadata": {},
   "outputs": [
    {
     "data": {
      "text/html": [
       "<div>\n",
       "<style scoped>\n",
       "    .dataframe tbody tr th:only-of-type {\n",
       "        vertical-align: middle;\n",
       "    }\n",
       "\n",
       "    .dataframe tbody tr th {\n",
       "        vertical-align: top;\n",
       "    }\n",
       "\n",
       "    .dataframe thead th {\n",
       "        text-align: right;\n",
       "    }\n",
       "</style>\n",
       "<table border=\"1\" class=\"dataframe\">\n",
       "  <thead>\n",
       "    <tr style=\"text-align: right;\">\n",
       "      <th></th>\n",
       "      <th>age</th>\n",
       "      <th>blood_pressure</th>\n",
       "      <th>cholesterol</th>\n",
       "      <th>max_HR</th>\n",
       "      <th>ST_depression</th>\n",
       "      <th>chest_pain_2</th>\n",
       "      <th>chest_pain_3</th>\n",
       "      <th>chest_pain_4</th>\n",
       "      <th>ECG_result_0</th>\n",
       "      <th>ECG_result_1</th>\n",
       "      <th>ECG_result_2</th>\n",
       "      <th>exercise_angina_0</th>\n",
       "      <th>exercise_angina_1</th>\n",
       "      <th>slope_of_ST_1</th>\n",
       "      <th>slope_of_ST_2</th>\n",
       "      <th>slope_of_ST_3</th>\n",
       "    </tr>\n",
       "  </thead>\n",
       "  <tbody>\n",
       "    <tr>\n",
       "      <th>713</th>\n",
       "      <td>1.457346</td>\n",
       "      <td>-0.664129</td>\n",
       "      <td>1.396044</td>\n",
       "      <td>0.400292</td>\n",
       "      <td>-0.502772</td>\n",
       "      <td>0</td>\n",
       "      <td>0</td>\n",
       "      <td>1</td>\n",
       "      <td>0</td>\n",
       "      <td>0</td>\n",
       "      <td>1</td>\n",
       "      <td>1</td>\n",
       "      <td>0</td>\n",
       "      <td>0</td>\n",
       "      <td>1</td>\n",
       "      <td>0</td>\n",
       "    </tr>\n",
       "    <tr>\n",
       "      <th>523</th>\n",
       "      <td>-0.207280</td>\n",
       "      <td>1.024352</td>\n",
       "      <td>2.400393</td>\n",
       "      <td>-0.856362</td>\n",
       "      <td>0.057030</td>\n",
       "      <td>0</td>\n",
       "      <td>0</td>\n",
       "      <td>1</td>\n",
       "      <td>0</td>\n",
       "      <td>0</td>\n",
       "      <td>1</td>\n",
       "      <td>0</td>\n",
       "      <td>1</td>\n",
       "      <td>1</td>\n",
       "      <td>0</td>\n",
       "      <td>0</td>\n",
       "    </tr>\n",
       "    <tr>\n",
       "      <th>177</th>\n",
       "      <td>0.208876</td>\n",
       "      <td>0.742939</td>\n",
       "      <td>-0.441702</td>\n",
       "      <td>-1.464420</td>\n",
       "      <td>0.523532</td>\n",
       "      <td>0</td>\n",
       "      <td>0</td>\n",
       "      <td>1</td>\n",
       "      <td>1</td>\n",
       "      <td>0</td>\n",
       "      <td>0</td>\n",
       "      <td>1</td>\n",
       "      <td>0</td>\n",
       "      <td>0</td>\n",
       "      <td>1</td>\n",
       "      <td>0</td>\n",
       "    </tr>\n",
       "    <tr>\n",
       "      <th>240</th>\n",
       "      <td>-0.415358</td>\n",
       "      <td>2.150006</td>\n",
       "      <td>-0.933192</td>\n",
       "      <td>-1.586031</td>\n",
       "      <td>1.923038</td>\n",
       "      <td>0</td>\n",
       "      <td>0</td>\n",
       "      <td>1</td>\n",
       "      <td>1</td>\n",
       "      <td>0</td>\n",
       "      <td>0</td>\n",
       "      <td>0</td>\n",
       "      <td>1</td>\n",
       "      <td>0</td>\n",
       "      <td>1</td>\n",
       "      <td>0</td>\n",
       "    </tr>\n",
       "    <tr>\n",
       "      <th>24</th>\n",
       "      <td>-1.247671</td>\n",
       "      <td>0.039405</td>\n",
       "      <td>-0.463071</td>\n",
       "      <td>-0.126692</td>\n",
       "      <td>-0.875974</td>\n",
       "      <td>0</td>\n",
       "      <td>1</td>\n",
       "      <td>0</td>\n",
       "      <td>1</td>\n",
       "      <td>0</td>\n",
       "      <td>0</td>\n",
       "      <td>1</td>\n",
       "      <td>0</td>\n",
       "      <td>1</td>\n",
       "      <td>0</td>\n",
       "      <td>0</td>\n",
       "    </tr>\n",
       "  </tbody>\n",
       "</table>\n",
       "</div>"
      ],
      "text/plain": [
       "          age  blood_pressure  cholesterol    max_HR  ST_depression  \\\n",
       "713  1.457346       -0.664129     1.396044  0.400292      -0.502772   \n",
       "523 -0.207280        1.024352     2.400393 -0.856362       0.057030   \n",
       "177  0.208876        0.742939    -0.441702 -1.464420       0.523532   \n",
       "240 -0.415358        2.150006    -0.933192 -1.586031       1.923038   \n",
       "24  -1.247671        0.039405    -0.463071 -0.126692      -0.875974   \n",
       "\n",
       "     chest_pain_2  chest_pain_3  chest_pain_4  ECG_result_0  ECG_result_1  \\\n",
       "713             0             0             1             0             0   \n",
       "523             0             0             1             0             0   \n",
       "177             0             0             1             1             0   \n",
       "240             0             0             1             1             0   \n",
       "24              0             1             0             1             0   \n",
       "\n",
       "     ECG_result_2  exercise_angina_0  exercise_angina_1  slope_of_ST_1  \\\n",
       "713             1                  1                  0              0   \n",
       "523             1                  0                  1              1   \n",
       "177             0                  1                  0              0   \n",
       "240             0                  0                  1              0   \n",
       "24              0                  1                  0              1   \n",
       "\n",
       "     slope_of_ST_2  slope_of_ST_3  \n",
       "713              1              0  \n",
       "523              0              0  \n",
       "177              1              0  \n",
       "240              1              0  \n",
       "24               0              0  "
      ]
     },
     "execution_count": 296,
     "metadata": {},
     "output_type": "execute_result"
    }
   ],
   "source": [
    "X_train.head()"
   ]
  },
  {
   "cell_type": "markdown",
   "id": "0793b484",
   "metadata": {},
   "source": [
    "## Logistic Regression"
   ]
  },
  {
   "cell_type": "code",
   "execution_count": 297,
   "id": "d9bbec67",
   "metadata": {},
   "outputs": [
    {
     "data": {
      "text/plain": [
       "LogisticRegression()"
      ]
     },
     "execution_count": 297,
     "metadata": {},
     "output_type": "execute_result"
    }
   ],
   "source": [
    "lr_classifier = LogisticRegression()\n",
    "lr_classifier.fit(X_train, y_train)"
   ]
  },
  {
   "cell_type": "code",
   "execution_count": 298,
   "id": "8449e540",
   "metadata": {},
   "outputs": [
    {
     "name": "stdout",
     "output_type": "stream",
     "text": [
      "Mean score = 0.8567307692307693\n"
     ]
    }
   ],
   "source": [
    "cv_score(lr_classifier)"
   ]
  },
  {
   "cell_type": "code",
   "execution_count": 299,
   "id": "b30183b3",
   "metadata": {},
   "outputs": [],
   "source": [
    "y_pred_lr = lr_classifier.predict(X_test)"
   ]
  },
  {
   "cell_type": "code",
   "execution_count": 300,
   "id": "89124908",
   "metadata": {},
   "outputs": [
    {
     "name": "stdout",
     "output_type": "stream",
     "text": [
      "Confusion Matrix:\n",
      "[[55 18]\n",
      " [12 83]]\n",
      "Classification Report:\n",
      "              precision    recall  f1-score   support\n",
      "\n",
      "           0       0.82      0.75      0.79        73\n",
      "           1       0.82      0.87      0.85        95\n",
      "\n",
      "    accuracy                           0.82       168\n",
      "   macro avg       0.82      0.81      0.82       168\n",
      "weighted avg       0.82      0.82      0.82       168\n",
      "\n",
      "Accuracy: 0.8214285714285714\n"
     ]
    }
   ],
   "source": [
    "measures(y_pred_lr)"
   ]
  },
  {
   "cell_type": "code",
   "execution_count": 301,
   "id": "0d0369f0",
   "metadata": {
    "scrolled": true
   },
   "outputs": [
    {
     "name": "stdout",
     "output_type": "stream",
     "text": [
      "ROC-AUC:  0.8992069214131219\n"
     ]
    },
    {
     "data": {
      "image/png": "[encoded data removed]",
      "text/plain": [
       "<Figure size 432x288 with 1 Axes>"
      ]
     },
     "metadata": {},
     "output_type": "display_data"
    }
   ],
   "source": [
    "ROC(lr_classifier)"
   ]
  },
  {
   "cell_type": "markdown",
   "id": "bad4050f",
   "metadata": {},
   "source": [
    "## Decision Tree Classifier"
   ]
  },
  {
   "cell_type": "code",
   "execution_count": 302,
   "id": "0f16485a",
   "metadata": {},
   "outputs": [
    {
     "data": {
      "text/plain": [
       "DecisionTreeClassifier(random_state=0)"
      ]
     },
     "execution_count": 302,
     "metadata": {},
     "output_type": "execute_result"
    }
   ],
   "source": [
    "dt_classifier = DecisionTreeClassifier(random_state = 0)\n",
    "dt_classifier.fit(X_train, y_train)"
   ]
  },
  {
   "cell_type": "code",
   "execution_count": 303,
   "id": "7686c96c",
   "metadata": {},
   "outputs": [
    {
     "name": "stdout",
     "output_type": "stream",
     "text": [
      "Mean score = 0.8516666666666666\n"
     ]
    }
   ],
   "source": [
    "cv_score(dt_classifier)"
   ]
  },
  {
   "cell_type": "code",
   "execution_count": 304,
   "id": "aa60639e",
   "metadata": {},
   "outputs": [],
   "source": [
    "y_pred_dt = dt_classifier.predict(X_test)"
   ]
  },
  {
   "cell_type": "code",
   "execution_count": 305,
   "id": "a09eeec2",
   "metadata": {},
   "outputs": [
    {
     "name": "stdout",
     "output_type": "stream",
     "text": [
      "Confusion Matrix:\n",
      "[[61 12]\n",
      " [ 7 88]]\n",
      "Classification Report:\n",
      "              precision    recall  f1-score   support\n",
      "\n",
      "           0       0.90      0.84      0.87        73\n",
      "           1       0.88      0.93      0.90        95\n",
      "\n",
      "    accuracy                           0.89       168\n",
      "   macro avg       0.89      0.88      0.88       168\n",
      "weighted avg       0.89      0.89      0.89       168\n",
      "\n",
      "Accuracy: 0.8869047619047619\n"
     ]
    }
   ],
   "source": [
    "measures(y_pred_dt)"
   ]
  },
  {
   "cell_type": "code",
   "execution_count": 306,
   "id": "d0bd6598",
   "metadata": {},
   "outputs": [
    {
     "name": "stdout",
     "output_type": "stream",
     "text": [
      "ROC-AUC:  0.8809661139149243\n"
     ]
    },
    {
     "data": {
      "image/png": "[encoded data removed]",
      "text/plain": [
       "<Figure size 432x288 with 1 Axes>"
      ]
     },
     "metadata": {},
     "output_type": "display_data"
    }
   ],
   "source": [
    "ROC(dt_classifier)"
   ]
  },
  {
   "cell_type": "markdown",
   "id": "411d7099",
   "metadata": {},
   "source": [
    "## Random Forest Classifer"
   ]
  },
  {
   "cell_type": "code",
   "execution_count": 307,
   "id": "49b03bac",
   "metadata": {},
   "outputs": [
    {
     "data": {
      "text/plain": [
       "RandomizedSearchCV(cv=10,\n",
       "                   estimator=RandomForestClassifier(criterion='entropy',\n",
       "                                                    random_state=7),\n",
       "                   param_distributions={'n_estimators': array([ 10,  20,  30,  40,  50,  60,  70,  80,  90, 100])})"
      ]
     },
     "execution_count": 307,
     "metadata": {},
     "output_type": "execute_result"
    }
   ],
   "source": [
    "rf_classifier = RandomForestClassifier(criterion = 'entropy', random_state = 7)\n",
    "parameters = {'n_estimators' :np.arange(10,110,10)}\n",
    "rf_classifier = RandomizedSearchCV(rf_classifier, parameters, cv=10)\n",
    "rf_classifier.fit(X_train, y_train)"
   ]
  },
  {
   "cell_type": "code",
   "execution_count": 308,
   "id": "b124a773",
   "metadata": {},
   "outputs": [
    {
     "name": "stdout",
     "output_type": "stream",
     "text": [
      "{'n_estimators': 40}\n"
     ]
    }
   ],
   "source": [
    "print(rf_classifier.best_params_)"
   ]
  },
  {
   "cell_type": "code",
   "execution_count": 309,
   "id": "32da97bd",
   "metadata": {},
   "outputs": [
    {
     "name": "stdout",
     "output_type": "stream",
     "text": [
      "Mean score = 0.9103846153846155\n"
     ]
    }
   ],
   "source": [
    "cv_score(rf_classifier)"
   ]
  },
  {
   "cell_type": "code",
   "execution_count": 233,
   "id": "b61829a9",
   "metadata": {},
   "outputs": [],
   "source": [
    "y_pred_rf = rf_classifier.predict(X_test)"
   ]
  },
  {
   "cell_type": "code",
   "execution_count": 310,
   "id": "dfdce8ea",
   "metadata": {},
   "outputs": [
    {
     "name": "stdout",
     "output_type": "stream",
     "text": [
      "Confusion Matrix:\n",
      "[[62 11]\n",
      " [ 2 93]]\n",
      "Classification Report:\n",
      "              precision    recall  f1-score   support\n",
      "\n",
      "           0       0.97      0.85      0.91        73\n",
      "           1       0.89      0.98      0.93        95\n",
      "\n",
      "    accuracy                           0.92       168\n",
      "   macro avg       0.93      0.91      0.92       168\n",
      "weighted avg       0.93      0.92      0.92       168\n",
      "\n",
      "Accuracy: 0.9226190476190477\n"
     ]
    }
   ],
   "source": [
    "measures(y_pred_rf)"
   ]
  },
  {
   "cell_type": "code",
   "execution_count": 311,
   "id": "79df0c58",
   "metadata": {},
   "outputs": [
    {
     "name": "stdout",
     "output_type": "stream",
     "text": [
      "ROC-AUC:  0.9638788752703678\n"
     ]
    },
    {
     "data": {
      "image/png": "[encoded data removed]",
      "text/plain": [
       "<Figure size 432x288 with 1 Axes>"
      ]
     },
     "metadata": {},
     "output_type": "display_data"
    }
   ],
   "source": [
    "ROC(rf_classifier)"
   ]
  },
  {
   "cell_type": "markdown",
   "id": "22571b56",
   "metadata": {},
   "source": [
    "## KNN classifier"
   ]
  },
  {
   "cell_type": "code",
   "execution_count": 312,
   "id": "5bf3aac4",
   "metadata": {},
   "outputs": [
    {
     "data": {
      "text/plain": [
       "RandomizedSearchCV(cv=10, estimator=KNeighborsClassifier(),\n",
       "                   param_distributions={'n_neighbors': array([ 0,  1,  2,  3,  4,  5,  6,  7,  8,  9, 10, 11, 12, 13, 14, 15, 16,\n",
       "       17, 18, 19, 20])})"
      ]
     },
     "execution_count": 312,
     "metadata": {},
     "output_type": "execute_result"
    }
   ],
   "source": [
    "knn_classifier = KNeighborsClassifier()\n",
    "parameters = {'n_neighbors' :np.arange(21)}\n",
    "knn_classifier = RandomizedSearchCV(knn_classifier, parameters, cv=10)\n",
    "knn_classifier.fit(X_train, y_train)"
   ]
  },
  {
   "cell_type": "code",
   "execution_count": 313,
   "id": "1836f9fe",
   "metadata": {},
   "outputs": [
    {
     "name": "stdout",
     "output_type": "stream",
     "text": [
      "{'n_neighbors': 19}\n"
     ]
    }
   ],
   "source": [
    "print(knn_classifier.best_params_)"
   ]
  },
  {
   "cell_type": "code",
   "execution_count": 314,
   "id": "5881de42",
   "metadata": {},
   "outputs": [
    {
     "name": "stdout",
     "output_type": "stream",
     "text": [
      "Mean score = 0.8413461538461539\n"
     ]
    }
   ],
   "source": [
    "cv_score(knn_classifier)"
   ]
  },
  {
   "cell_type": "code",
   "execution_count": 315,
   "id": "1ce7a130",
   "metadata": {},
   "outputs": [],
   "source": [
    "y_pred_knn = knn_classifier.predict(X_test)"
   ]
  },
  {
   "cell_type": "code",
   "execution_count": 316,
   "id": "98fc728e",
   "metadata": {
    "scrolled": true
   },
   "outputs": [
    {
     "name": "stdout",
     "output_type": "stream",
     "text": [
      "Confusion Matrix:\n",
      "[[54 19]\n",
      " [14 81]]\n",
      "Classification Report:\n",
      "              precision    recall  f1-score   support\n",
      "\n",
      "           0       0.79      0.74      0.77        73\n",
      "           1       0.81      0.85      0.83        95\n",
      "\n",
      "    accuracy                           0.80       168\n",
      "   macro avg       0.80      0.80      0.80       168\n",
      "weighted avg       0.80      0.80      0.80       168\n",
      "\n",
      "Accuracy: 0.8035714285714286\n"
     ]
    }
   ],
   "source": [
    "measures(y_pred_knn)"
   ]
  },
  {
   "cell_type": "code",
   "execution_count": 317,
   "id": "7cc13d17",
   "metadata": {},
   "outputs": [
    {
     "name": "stdout",
     "output_type": "stream",
     "text": [
      "ROC-AUC:  0.9155010814708003\n"
     ]
    },
    {
     "data": {
      "image/png": "[encoded data removed]",
      "text/plain": [
       "<Figure size 432x288 with 1 Axes>"
      ]
     },
     "metadata": {},
     "output_type": "display_data"
    }
   ],
   "source": [
    "ROC(knn_classifier)"
   ]
  },
  {
   "cell_type": "markdown",
   "id": "ada33b95",
   "metadata": {},
   "source": [
    "## Naive Bayes Classifier"
   ]
  },
  {
   "cell_type": "code",
   "execution_count": 318,
   "id": "4b1643b8",
   "metadata": {},
   "outputs": [
    {
     "data": {
      "text/plain": [
       "GaussianNB()"
      ]
     },
     "execution_count": 318,
     "metadata": {},
     "output_type": "execute_result"
    }
   ],
   "source": [
    "nb_classifier = GaussianNB()\n",
    "nb_classifier.fit(X_train, y_train)"
   ]
  },
  {
   "cell_type": "code",
   "execution_count": 319,
   "id": "61b2b502",
   "metadata": {},
   "outputs": [
    {
     "name": "stdout",
     "output_type": "stream",
     "text": [
      "Mean score = 0.8259615384615383\n"
     ]
    }
   ],
   "source": [
    "cv_score(nb_classifier)"
   ]
  },
  {
   "cell_type": "code",
   "execution_count": 320,
   "id": "8e937c8d",
   "metadata": {},
   "outputs": [],
   "source": [
    "y_pred_nb = nb_classifier.predict(X_test)"
   ]
  },
  {
   "cell_type": "code",
   "execution_count": 321,
   "id": "22d1e860",
   "metadata": {},
   "outputs": [
    {
     "name": "stdout",
     "output_type": "stream",
     "text": [
      "Confusion Matrix:\n",
      "[[52 21]\n",
      " [ 8 87]]\n",
      "Classification Report:\n",
      "              precision    recall  f1-score   support\n",
      "\n",
      "           0       0.87      0.71      0.78        73\n",
      "           1       0.81      0.92      0.86        95\n",
      "\n",
      "    accuracy                           0.83       168\n",
      "   macro avg       0.84      0.81      0.82       168\n",
      "weighted avg       0.83      0.83      0.82       168\n",
      "\n",
      "Accuracy: 0.8273809523809523\n"
     ]
    }
   ],
   "source": [
    "measures(y_pred_nb)"
   ]
  },
  {
   "cell_type": "code",
   "execution_count": 322,
   "id": "0120df17",
   "metadata": {},
   "outputs": [
    {
     "name": "stdout",
     "output_type": "stream",
     "text": [
      "ROC-AUC:  0.9002162941600577\n"
     ]
    },
    {
     "data": {
      "image/png": "[encoded data removed]",
      "text/plain": [
       "<Figure size 432x288 with 1 Axes>"
      ]
     },
     "metadata": {},
     "output_type": "display_data"
    }
   ],
   "source": [
    "ROC(nb_classifier)"
   ]
  },
  {
   "cell_type": "markdown",
   "id": "1713dce4",
   "metadata": {},
   "source": [
    "## Support Vector Machine"
   ]
  },
  {
   "cell_type": "code",
   "execution_count": 323,
   "id": "76f7470b",
   "metadata": {},
   "outputs": [
    {
     "data": {
      "text/plain": [
       "SVC(kernel='linear')"
      ]
     },
     "execution_count": 323,
     "metadata": {},
     "output_type": "execute_result"
    }
   ],
   "source": [
    "svm_classifier = SVC(kernel='linear')\n",
    "svm_classifier.fit(X_train, y_train)"
   ]
  },
  {
   "cell_type": "code",
   "execution_count": 324,
   "id": "a2097423",
   "metadata": {},
   "outputs": [
    {
     "name": "stdout",
     "output_type": "stream",
     "text": [
      "Mean score = 0.8566666666666667\n"
     ]
    }
   ],
   "source": [
    "cv_score(svm_classifier)"
   ]
  },
  {
   "cell_type": "code",
   "execution_count": 325,
   "id": "9a43c99d",
   "metadata": {},
   "outputs": [],
   "source": [
    "y_pred_svm = svm_classifier.predict(X_test)"
   ]
  },
  {
   "cell_type": "code",
   "execution_count": 326,
   "id": "3cb92ce7",
   "metadata": {},
   "outputs": [
    {
     "name": "stdout",
     "output_type": "stream",
     "text": [
      "Confusion Matrix:\n",
      "[[56 17]\n",
      " [12 83]]\n",
      "Classification Report:\n",
      "              precision    recall  f1-score   support\n",
      "\n",
      "           0       0.82      0.77      0.79        73\n",
      "           1       0.83      0.87      0.85        95\n",
      "\n",
      "    accuracy                           0.83       168\n",
      "   macro avg       0.83      0.82      0.82       168\n",
      "weighted avg       0.83      0.83      0.83       168\n",
      "\n",
      "Accuracy: 0.8273809523809523\n"
     ]
    }
   ],
   "source": [
    "measures(y_pred_svm)"
   ]
  },
  {
   "cell_type": "markdown",
   "id": "8ad08458",
   "metadata": {},
   "source": [
    " "
   ]
  },
  {
   "cell_type": "markdown",
   "id": "47354d88",
   "metadata": {},
   "source": [
    "## Save the model"
   ]
  },
  {
   "cell_type": "code",
   "execution_count": 327,
   "id": "95708408",
   "metadata": {},
   "outputs": [],
   "source": [
    "filename = 'rf_classifier_heart.pkl'\n",
    "pickle.dump(rf_classifier, open(filename, 'wb'))"
   ]
  },
  {
   "cell_type": "code",
   "execution_count": 330,
   "id": "7db17d44",
   "metadata": {},
   "outputs": [
    {
     "data": {
      "text/plain": [
       "1"
      ]
     },
     "execution_count": 330,
     "metadata": {},
     "output_type": "execute_result"
    }
   ],
   "source": [
    "temp_array = [40,140,289,172,0.0,1,0,0,1,0,0,1,0,1,0,0]\n",
    "temp_array5 = [49,140,234,140,1.0,0,0,1,1,0,0,0,1,0,1,0]\n",
    "data = np.array([temp_array5])\n",
    "my_prediction = int(rf_classifier.predict(data))\n",
    "my_prediction"
   ]
  },
  {
   "cell_type": "code",
   "execution_count": null,
   "id": "dfe13811",
   "metadata": {},
   "outputs": [],
   "source": []
  }
 ],
 "metadata": {
  "kernelspec": {
   "display_name": "Python 3",
   "language": "python",
   "name": "python3"
  },
  "language_info": {
   "codemirror_mode": {
    "name": "ipython",
    "version": 3
   },
   "file_extension": ".py",
   "mimetype": "text/x-python",
   "name": "python",
   "nbconvert_exporter": "python",
   "pygments_lexer": "ipython3",
   "version": "3.8.10"
  }
 },
 "nbformat": 4,
 "nbformat_minor": 5
}
