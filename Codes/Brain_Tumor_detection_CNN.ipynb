{
 "cells": [
  {
   "cell_type": "markdown",
   "metadata": {
    "id": "Mp5LTW5w5zFz"
   },
   "source": [
    "# **Requirements**"
   ]
  },
  {
   "cell_type": "markdown",
   "metadata": {
    "id": "KZTec5ws8fd0"
   },
   "source": []
  },
  {
   "cell_type": "code",
   "execution_count": 31,
   "metadata": {
    "colab": {
     "base_uri": "https://localhost:8080/"
    },
    "id": "x4sATyst2cq8",
    "outputId": "692b0092-306c-4340-8fd7-26edfc1c975a"
   },
   "outputs": [
    {
     "name": "stdout",
     "output_type": "stream",
     "text": [
      "Requirement already satisfied: tensorflow-gpu in /usr/local/lib/python3.7/dist-packages (2.5.0)\n",
      "Requirement already satisfied: six~=1.15.0 in /usr/local/lib/python3.7/dist-packages (from tensorflow-gpu) (1.15.0)\n",
      "Requirement already satisfied: numpy~=1.19.2 in /usr/local/lib/python3.7/dist-packages (from tensorflow-gpu) (1.19.5)\n",
      "Requirement already satisfied: tensorflow-estimator<2.6.0,>=2.5.0rc0 in /usr/local/lib/python3.7/dist-packages (from tensorflow-gpu) (2.5.0)\n",
      "Requirement already satisfied: flatbuffers~=1.12.0 in /usr/local/lib/python3.7/dist-packages (from tensorflow-gpu) (1.12)\n",
      "Requirement already satisfied: termcolor~=1.1.0 in /usr/local/lib/python3.7/dist-packages (from tensorflow-gpu) (1.1.0)\n",
      "Requirement already satisfied: tensorboard~=2.5 in /usr/local/lib/python3.7/dist-packages (from tensorflow-gpu) (2.5.0)\n",
      "Requirement already satisfied: wheel~=0.35 in /usr/local/lib/python3.7/dist-packages (from tensorflow-gpu) (0.36.2)\n",
      "Requirement already satisfied: grpcio~=1.34.0 in /usr/local/lib/python3.7/dist-packages (from tensorflow-gpu) (1.34.1)\n",
      "Requirement already satisfied: protobuf>=3.9.2 in /usr/local/lib/python3.7/dist-packages (from tensorflow-gpu) (3.17.3)\n",
      "Requirement already satisfied: opt-einsum~=3.3.0 in /usr/local/lib/python3.7/dist-packages (from tensorflow-gpu) (3.3.0)\n",
      "Requirement already satisfied: gast==0.4.0 in /usr/local/lib/python3.7/dist-packages (from tensorflow-gpu) (0.4.0)\n",
      "Requirement already satisfied: keras-preprocessing~=1.1.2 in /usr/local/lib/python3.7/dist-packages (from tensorflow-gpu) (1.1.2)\n",
      "Requirement already satisfied: keras-nightly~=2.5.0.dev in /usr/local/lib/python3.7/dist-packages (from tensorflow-gpu) (2.5.0.dev2021032900)\n",
      "Requirement already satisfied: google-pasta~=0.2 in /usr/local/lib/python3.7/dist-packages (from tensorflow-gpu) (0.2.0)\n",
      "Requirement already satisfied: wrapt~=1.12.1 in /usr/local/lib/python3.7/dist-packages (from tensorflow-gpu) (1.12.1)\n",
      "Requirement already satisfied: astunparse~=1.6.3 in /usr/local/lib/python3.7/dist-packages (from tensorflow-gpu) (1.6.3)\n",
      "Requirement already satisfied: h5py~=3.1.0 in /usr/local/lib/python3.7/dist-packages (from tensorflow-gpu) (3.1.0)\n",
      "Requirement already satisfied: absl-py~=0.10 in /usr/local/lib/python3.7/dist-packages (from tensorflow-gpu) (0.12.0)\n",
      "Requirement already satisfied: typing-extensions~=3.7.4 in /usr/local/lib/python3.7/dist-packages (from tensorflow-gpu) (3.7.4.3)\n",
      "Requirement already satisfied: cached-property in /usr/local/lib/python3.7/dist-packages (from h5py~=3.1.0->tensorflow-gpu) (1.5.2)\n",
      "Requirement already satisfied: markdown>=2.6.8 in /usr/local/lib/python3.7/dist-packages (from tensorboard~=2.5->tensorflow-gpu) (3.3.4)\n",
      "Requirement already satisfied: google-auth-oauthlib<0.5,>=0.4.1 in /usr/local/lib/python3.7/dist-packages (from tensorboard~=2.5->tensorflow-gpu) (0.4.4)\n",
      "Requirement already satisfied: requests<3,>=2.21.0 in /usr/local/lib/python3.7/dist-packages (from tensorboard~=2.5->tensorflow-gpu) (2.23.0)\n",
      "Requirement already satisfied: setuptools>=41.0.0 in /usr/local/lib/python3.7/dist-packages (from tensorboard~=2.5->tensorflow-gpu) (57.2.0)\n",
      "Requirement already satisfied: google-auth<2,>=1.6.3 in /usr/local/lib/python3.7/dist-packages (from tensorboard~=2.5->tensorflow-gpu) (1.32.1)\n",
      "Requirement already satisfied: tensorboard-plugin-wit>=1.6.0 in /usr/local/lib/python3.7/dist-packages (from tensorboard~=2.5->tensorflow-gpu) (1.8.0)\n",
      "Requirement already satisfied: tensorboard-data-server<0.7.0,>=0.6.0 in /usr/local/lib/python3.7/dist-packages (from tensorboard~=2.5->tensorflow-gpu) (0.6.1)\n",
      "Requirement already satisfied: werkzeug>=0.11.15 in /usr/local/lib/python3.7/dist-packages (from tensorboard~=2.5->tensorflow-gpu) (1.0.1)\n",
      "Requirement already satisfied: pyasn1-modules>=0.2.1 in /usr/local/lib/python3.7/dist-packages (from google-auth<2,>=1.6.3->tensorboard~=2.5->tensorflow-gpu) (0.2.8)\n",
      "Requirement already satisfied: rsa<5,>=3.1.4 in /usr/local/lib/python3.7/dist-packages (from google-auth<2,>=1.6.3->tensorboard~=2.5->tensorflow-gpu) (4.7.2)\n",
      "Requirement already satisfied: cachetools<5.0,>=2.0.0 in /usr/local/lib/python3.7/dist-packages (from google-auth<2,>=1.6.3->tensorboard~=2.5->tensorflow-gpu) (4.2.2)\n",
      "Requirement already satisfied: requests-oauthlib>=0.7.0 in /usr/local/lib/python3.7/dist-packages (from google-auth-oauthlib<0.5,>=0.4.1->tensorboard~=2.5->tensorflow-gpu) (1.3.0)\n",
      "Requirement already satisfied: importlib-metadata in /usr/local/lib/python3.7/dist-packages (from markdown>=2.6.8->tensorboard~=2.5->tensorflow-gpu) (4.6.1)\n",
      "Requirement already satisfied: pyasn1<0.5.0,>=0.4.6 in /usr/local/lib/python3.7/dist-packages (from pyasn1-modules>=0.2.1->google-auth<2,>=1.6.3->tensorboard~=2.5->tensorflow-gpu) (0.4.8)\n",
      "Requirement already satisfied: urllib3!=1.25.0,!=1.25.1,<1.26,>=1.21.1 in /usr/local/lib/python3.7/dist-packages (from requests<3,>=2.21.0->tensorboard~=2.5->tensorflow-gpu) (1.24.3)\n",
      "Requirement already satisfied: chardet<4,>=3.0.2 in /usr/local/lib/python3.7/dist-packages (from requests<3,>=2.21.0->tensorboard~=2.5->tensorflow-gpu) (3.0.4)\n",
      "Requirement already satisfied: certifi>=2017.4.17 in /usr/local/lib/python3.7/dist-packages (from requests<3,>=2.21.0->tensorboard~=2.5->tensorflow-gpu) (2021.5.30)\n",
      "Requirement already satisfied: idna<3,>=2.5 in /usr/local/lib/python3.7/dist-packages (from requests<3,>=2.21.0->tensorboard~=2.5->tensorflow-gpu) (2.10)\n",
      "Requirement already satisfied: oauthlib>=3.0.0 in /usr/local/lib/python3.7/dist-packages (from requests-oauthlib>=0.7.0->google-auth-oauthlib<0.5,>=0.4.1->tensorboard~=2.5->tensorflow-gpu) (3.1.1)\n",
      "Requirement already satisfied: zipp>=0.5 in /usr/local/lib/python3.7/dist-packages (from importlib-metadata->markdown>=2.6.8->tensorboard~=2.5->tensorflow-gpu) (3.5.0)\n"
     ]
    }
   ],
   "source": [
    "!pip install tensorflow-gpu"
   ]
  },
  {
   "cell_type": "code",
   "execution_count": 32,
   "metadata": {
    "colab": {
     "base_uri": "https://localhost:8080/"
    },
    "id": "UTs59cop3Y6J",
    "outputId": "fde1131c-4fce-42e2-c117-11194c275a7f"
   },
   "outputs": [
    {
     "name": "stdout",
     "output_type": "stream",
     "text": [
      "Tue Jul 20 11:34:14 2021       \n",
      "+-----------------------------------------------------------------------------+\n",
      "| NVIDIA-SMI 470.42.01    Driver Version: 460.32.03    CUDA Version: 11.2     |\n",
      "|-------------------------------+----------------------+----------------------+\n",
      "| GPU  Name        Persistence-M| Bus-Id        Disp.A | Volatile Uncorr. ECC |\n",
      "| Fan  Temp  Perf  Pwr:Usage/Cap|         Memory-Usage | GPU-Util  Compute M. |\n",
      "|                               |                      |               MIG M. |\n",
      "|===============================+======================+======================|\n",
      "|   0  Tesla T4            Off  | 00000000:00:04.0 Off |                    0 |\n",
      "| N/A   43C    P8     9W /  70W |      3MiB / 15109MiB |      0%      Default |\n",
      "|                               |                      |                  N/A |\n",
      "+-------------------------------+----------------------+----------------------+\n",
      "                                                                               \n",
      "+-----------------------------------------------------------------------------+\n",
      "| Processes:                                                                  |\n",
      "|  GPU   GI   CI        PID   Type   Process name                  GPU Memory |\n",
      "|        ID   ID                                                   Usage      |\n",
      "|=============================================================================|\n",
      "|  No running processes found                                                 |\n",
      "+-----------------------------------------------------------------------------+\n"
     ]
    }
   ],
   "source": [
    "!nvidia-smi"
   ]
  },
  {
   "cell_type": "markdown",
   "metadata": {
    "id": "T_Z-Zruo5w9a"
   },
   "source": [
    "# **Convolutional Neural Network**\n"
   ]
  },
  {
   "cell_type": "markdown",
   "metadata": {
    "id": "R0-mIipM6bTi"
   },
   "source": [
    " \n",
    "\n",
    "---\n",
    "\n"
   ]
  },
  {
   "cell_type": "markdown",
   "metadata": {
    "id": "Rq93pLmb6kYe"
   },
   "source": [
    "Importing the libraries"
   ]
  },
  {
   "cell_type": "code",
   "execution_count": 3,
   "metadata": {
    "id": "tzcqCkRG35AM"
   },
   "outputs": [],
   "source": [
    "import tensorflow as tf\n",
    "from tensorflow.keras.layers import Input, Lambda, Dense, Flatten, Conv2D, MaxPooling2D, BatchNormalization, Dropout\n",
    "from tensorflow.keras.models import Model, load_model\n",
    "from tensorflow.keras.preprocessing import image\n",
    "from tensorflow.keras.preprocessing.image import ImageDataGenerator,load_img\n",
    "from tensorflow.keras.models import Sequential\n",
    "from tensorflow.keras.regularizers import l2\n",
    "import numpy as np\n",
    "from glob import glob\n",
    "import matplotlib.pyplot as plt"
   ]
  },
  {
   "cell_type": "code",
   "execution_count": 92,
   "metadata": {
    "colab": {
     "base_uri": "https://localhost:8080/"
    },
    "id": "bvJUD-Rk_pR6",
    "outputId": "7381972f-1470-4f0c-db61-5ec1a1c72b4d"
   },
   "outputs": [
    {
     "name": "stdout",
     "output_type": "stream",
     "text": [
      "Drive already mounted at /content/drive; to attempt to forcibly remount, call drive.mount(\"/content/drive\", force_remount=True).\n"
     ]
    }
   ],
   "source": [
    "from google.colab import drive\n",
    "drive.mount('/content/drive')"
   ]
  },
  {
   "cell_type": "markdown",
   "metadata": {
    "id": "OQ-SAWJW6zGQ"
   },
   "source": [
    "Image Resize"
   ]
  },
  {
   "cell_type": "code",
   "execution_count": 93,
   "metadata": {
    "id": "TUuNXO1W35P_"
   },
   "outputs": [],
   "source": [
    "IMAGE_SIZE = [224, 224]"
   ]
  },
  {
   "cell_type": "markdown",
   "metadata": {
    "id": "nzr5bZEt69wS"
   },
   "source": [
    "Import the dataset"
   ]
  },
  {
   "cell_type": "code",
   "execution_count": 94,
   "metadata": {
    "id": "Sfz8EDmErUiF"
   },
   "outputs": [],
   "source": [
    "tumor = [('glioma_tumor', 0),('meningioma_tumor', 1),('no_tumor', 2),('pituitary_tumor', 3)]"
   ]
  },
  {
   "cell_type": "code",
   "execution_count": 95,
   "metadata": {
    "id": "M6uKKsu57AMs"
   },
   "outputs": [],
   "source": [
    "train_path = '/content/drive/MyDrive/BrainTumor/Train'\n",
    "test_path = '/content/drive/MyDrive/BrainTumor/Test'"
   ]
  },
  {
   "cell_type": "code",
   "execution_count": 96,
   "metadata": {
    "colab": {
     "base_uri": "https://localhost:8080/"
    },
    "id": "Un6pnyRn7Aeb",
    "outputId": "158508ee-ab0f-47e5-8821-cb733e75ff8a"
   },
   "outputs": [
    {
     "data": {
      "text/plain": [
       "['/content/drive/MyDrive/BrainTumor/Train/meningioma_tumor',\n",
       " '/content/drive/MyDrive/BrainTumor/Train/glioma_tumor',\n",
       " '/content/drive/MyDrive/BrainTumor/Train/no_tumor',\n",
       " '/content/drive/MyDrive/BrainTumor/Train/pituitary_tumor']"
      ]
     },
     "execution_count": 96,
     "metadata": {
      "tags": []
     },
     "output_type": "execute_result"
    }
   ],
   "source": [
    "# useful for getting number of output classes\n",
    "folders = glob('/content/drive/MyDrive/BrainTumor/Train/*')\n",
    "folders"
   ]
  },
  {
   "cell_type": "markdown",
   "metadata": {
    "id": "T_Mq7hkgZ_Zm"
   },
   "source": [
    "* Types of Brain tumor\n",
    "\n",
    "1. Glioma - Occurs at the base of the brain.\n",
    "2. Pituitary - tumors occur in pituitary gland (responsible for growth of the body).\n",
    "3. Meningioma - tumor grows from meninges, layers of tissue covering the brain and the spinal cord."
   ]
  },
  {
   "cell_type": "code",
   "execution_count": 96,
   "metadata": {
    "id": "lHmoJZpeZ4ED"
   },
   "outputs": [],
   "source": []
  },
  {
   "cell_type": "code",
   "execution_count": null,
   "metadata": {
    "id": "gSYtV0IYZ4Jw"
   },
   "outputs": [],
   "source": []
  },
  {
   "cell_type": "markdown",
   "metadata": {
    "id": "Qtp8EZ3R8nY-"
   },
   "source": [
    "Model creation"
   ]
  },
  {
   "cell_type": "code",
   "execution_count": 97,
   "metadata": {
    "colab": {
     "base_uri": "https://localhost:8080/"
    },
    "id": "pdVRtTwF-q4D",
    "outputId": "34a22527-822d-43f6-c684-fa71cc5d26bc"
   },
   "outputs": [
    {
     "name": "stdout",
     "output_type": "stream",
     "text": [
      "Model: \"sequential_7\"\n",
      "_________________________________________________________________\n",
      "Layer (type)                 Output Shape              Param #   \n",
      "=================================================================\n",
      "conv2d_17 (Conv2D)           (None, 224, 224, 16)      208       \n",
      "_________________________________________________________________\n",
      "max_pooling2d_17 (MaxPooling (None, 112, 112, 16)      0         \n",
      "_________________________________________________________________\n",
      "conv2d_18 (Conv2D)           (None, 112, 112, 32)      2080      \n",
      "_________________________________________________________________\n",
      "max_pooling2d_18 (MaxPooling (None, 56, 56, 32)        0         \n",
      "_________________________________________________________________\n",
      "conv2d_19 (Conv2D)           (None, 56, 56, 64)        8256      \n",
      "_________________________________________________________________\n",
      "max_pooling2d_19 (MaxPooling (None, 28, 28, 64)        0         \n",
      "_________________________________________________________________\n",
      "conv2d_20 (Conv2D)           (None, 28, 28, 128)       32896     \n",
      "_________________________________________________________________\n",
      "max_pooling2d_20 (MaxPooling (None, 14, 14, 128)       0         \n",
      "_________________________________________________________________\n",
      "flatten_4 (Flatten)          (None, 25088)             0         \n",
      "_________________________________________________________________\n",
      "dense_9 (Dense)              (None, 500)               12544500  \n",
      "_________________________________________________________________\n",
      "dense_10 (Dense)             (None, 4)                 2004      \n",
      "=================================================================\n",
      "Total params: 12,589,944\n",
      "Trainable params: 12,589,944\n",
      "Non-trainable params: 0\n",
      "_________________________________________________________________\n"
     ]
    }
   ],
   "source": [
    "### Create Model from scratch using CNN\n",
    "# Initialising the CNN\n",
    "cnn = tf.keras.models.Sequential()\n",
    "\n",
    "# Step 1 - Convolution\n",
    "cnn.add(Conv2D(filters=16,kernel_size=2,padding=\"same\",activation=\"relu\",input_shape=(224,224,3)))\n",
    "\n",
    "# Step 2 - Pooling\n",
    "cnn.add(MaxPooling2D(pool_size=2))\n",
    "\n",
    "# Adding a second convolutional layer\n",
    "cnn.add(Conv2D(filters=32,kernel_size=2,padding=\"same\",activation =\"relu\"))\n",
    "\n",
    "# Adding second Pooling layer\n",
    "cnn.add(MaxPooling2D(pool_size=2))\n",
    "\n",
    "# Adding a third convolutional layer\n",
    "cnn.add(Conv2D(filters=64,kernel_size=2,padding=\"same\",activation=\"relu\"))\n",
    "\n",
    "# Adding third Pooling layer\n",
    "cnn.add(MaxPooling2D(pool_size=2))\n",
    "\n",
    "# Adding a fourth convolutional layer\n",
    "cnn.add(Conv2D(filters=128,kernel_size=2,padding=\"same\",activation=\"relu\"))\n",
    "\n",
    "# Adding fourth Pooling layer\n",
    "cnn.add(MaxPooling2D(pool_size=2))\n",
    "\n",
    "# Step 3 - Flattening\n",
    "cnn.add(Flatten())\n",
    "\n",
    "# Step 4 - Full Connection\n",
    "cnn.add(Dense(500,activation=\"relu\"))\n",
    "\n",
    "# Step 5 - Output Layer\n",
    "cnn.add(Dense(len(folders),activation=\"softmax\"))\n",
    "cnn.summary()"
   ]
  },
  {
   "cell_type": "markdown",
   "metadata": {
    "id": "jeCptMrZB14h"
   },
   "source": [
    "Choose the best parameters"
   ]
  },
  {
   "cell_type": "code",
   "execution_count": 98,
   "metadata": {
    "id": "ygrQT5p577iC"
   },
   "outputs": [],
   "source": [
    "cnn.compile(\n",
    "  loss='categorical_crossentropy',\n",
    "  optimizer='adam',\n",
    "  metrics=['accuracy']\n",
    ")"
   ]
  },
  {
   "cell_type": "markdown",
   "metadata": {
    "id": "l4KIoQlDCOMc"
   },
   "source": [
    "Use the Image Data Generator to import the images from the dataset"
   ]
  },
  {
   "cell_type": "code",
   "execution_count": 99,
   "metadata": {
    "id": "_1tdg4yY77mn"
   },
   "outputs": [],
   "source": [
    "from tensorflow.keras.preprocessing.image import ImageDataGenerator\n",
    "\n",
    "train_datagen = ImageDataGenerator(rescale = 1./255,\n",
    "                                   shear_range = 0.2,\n",
    "                                   zoom_range = 0.2,\n",
    "                                   horizontal_flip = True)\n",
    "\n",
    "test_datagen = ImageDataGenerator(rescale = 1./255)"
   ]
  },
  {
   "cell_type": "code",
   "execution_count": 100,
   "metadata": {
    "colab": {
     "base_uri": "https://localhost:8080/"
    },
    "id": "n_o1r23x77r_",
    "outputId": "567c0251-4d8b-41a5-bc38-9015c5b1c36f"
   },
   "outputs": [
    {
     "name": "stdout",
     "output_type": "stream",
     "text": [
      "Found 2870 images belonging to 4 classes.\n"
     ]
    }
   ],
   "source": [
    "# Make sure you provide the same target size as initialied for the image size\n",
    "train_set = train_datagen.flow_from_directory('/content/drive/MyDrive/BrainTumor/Train',\n",
    "                                                 target_size = (224,224),\n",
    "                                                 batch_size = 16,\n",
    "                                                 class_mode = 'categorical')"
   ]
  },
  {
   "cell_type": "code",
   "execution_count": 101,
   "metadata": {
    "colab": {
     "base_uri": "https://localhost:8080/"
    },
    "id": "CAHHEjc477xW",
    "outputId": "b636ac0c-9e73-47c9-fb00-ed99de16c18b"
   },
   "outputs": [
    {
     "name": "stdout",
     "output_type": "stream",
     "text": [
      "Found 394 images belonging to 4 classes.\n"
     ]
    }
   ],
   "source": [
    "test_set = test_datagen.flow_from_directory('/content/drive/MyDrive/BrainTumor/Test',\n",
    "                                            target_size = (224,224),\n",
    "                                            batch_size = 16,\n",
    "                                            class_mode = 'categorical')"
   ]
  },
  {
   "cell_type": "markdown",
   "metadata": {
    "id": "Y_8muwZ0hLxM"
   },
   "source": [
    "## Synthetic Minority Oversampling\n",
    "\n",
    "* Glioma tumor, Meningioma tumor and Pituitary tumor almost same number of datasets ie. 826, 822 and 827 respectively. But the label no_tumor has only 395 samples. \n",
    "* Since the number of samples for no_tumor class is less, let's oversample that class using SMOTE from imblearn package.\n"
   ]
  },
  {
   "cell_type": "markdown",
   "metadata": {
    "id": "c5N7FcZ5Csod"
   },
   "source": [
    "**fit the model**"
   ]
  },
  {
   "cell_type": "code",
   "execution_count": 102,
   "metadata": {
    "colab": {
     "base_uri": "https://localhost:8080/"
    },
    "id": "9gwTU4MQCxGC",
    "outputId": "3bfd0206-1c5c-4abc-e282-85690b5840d0"
   },
   "outputs": [
    {
     "name": "stdout",
     "output_type": "stream",
     "text": [
      "Epoch 1/20\n",
      "180/180 [==============================] - 547s 3s/step - loss: 1.0700 - accuracy: 0.5324 - val_loss: 2.5370 - val_accuracy: 0.3173\n",
      "Epoch 2/20\n",
      "180/180 [==============================] - 135s 749ms/step - loss: 0.7652 - accuracy: 0.6787 - val_loss: 1.8353 - val_accuracy: 0.4518\n",
      "Epoch 3/20\n",
      "180/180 [==============================] - 135s 751ms/step - loss: 0.6280 - accuracy: 0.7383 - val_loss: 2.3820 - val_accuracy: 0.4822\n",
      "Epoch 4/20\n",
      "180/180 [==============================] - 135s 746ms/step - loss: 0.5288 - accuracy: 0.7937 - val_loss: 2.2327 - val_accuracy: 0.5406\n",
      "Epoch 5/20\n",
      "180/180 [==============================] - 136s 752ms/step - loss: 0.4575 - accuracy: 0.8129 - val_loss: 2.0892 - val_accuracy: 0.5508\n",
      "Epoch 6/20\n",
      "180/180 [==============================] - 134s 743ms/step - loss: 0.4176 - accuracy: 0.8334 - val_loss: 2.4359 - val_accuracy: 0.5533\n",
      "Epoch 7/20\n",
      "180/180 [==============================] - 136s 753ms/step - loss: 0.3472 - accuracy: 0.8669 - val_loss: 2.6088 - val_accuracy: 0.6041\n",
      "Epoch 8/20\n",
      "180/180 [==============================] - 134s 741ms/step - loss: 0.3109 - accuracy: 0.8794 - val_loss: 2.6502 - val_accuracy: 0.6371\n",
      "Epoch 9/20\n",
      "180/180 [==============================] - 134s 744ms/step - loss: 0.2818 - accuracy: 0.8948 - val_loss: 2.9143 - val_accuracy: 0.6650\n",
      "Epoch 10/20\n",
      "180/180 [==============================] - 136s 753ms/step - loss: 0.2429 - accuracy: 0.9143 - val_loss: 2.7784 - val_accuracy: 0.6878\n",
      "Epoch 11/20\n",
      "180/180 [==============================] - 135s 749ms/step - loss: 0.2119 - accuracy: 0.9244 - val_loss: 2.2301 - val_accuracy: 0.7132\n",
      "Epoch 12/20\n",
      "180/180 [==============================] - 136s 757ms/step - loss: 0.1937 - accuracy: 0.9317 - val_loss: 2.6721 - val_accuracy: 0.7259\n",
      "Epoch 13/20\n",
      "180/180 [==============================] - 135s 747ms/step - loss: 0.1716 - accuracy: 0.9376 - val_loss: 2.1257 - val_accuracy: 0.7132\n",
      "Epoch 14/20\n",
      "180/180 [==============================] - 136s 753ms/step - loss: 0.1663 - accuracy: 0.9373 - val_loss: 2.6872 - val_accuracy: 0.7157\n",
      "Epoch 15/20\n",
      "180/180 [==============================] - 135s 751ms/step - loss: 0.1554 - accuracy: 0.9439 - val_loss: 3.1595 - val_accuracy: 0.7690\n",
      "Epoch 16/20\n",
      "180/180 [==============================] - 136s 754ms/step - loss: 0.1342 - accuracy: 0.9484 - val_loss: 3.2634 - val_accuracy: 0.7081\n",
      "Epoch 17/20\n",
      "180/180 [==============================] - 135s 750ms/step - loss: 0.1026 - accuracy: 0.9606 - val_loss: 3.0264 - val_accuracy: 0.7132\n",
      "Epoch 18/20\n",
      "180/180 [==============================] - 133s 739ms/step - loss: 0.0955 - accuracy: 0.9599 - val_loss: 3.3043 - val_accuracy: 0.7513\n",
      "Epoch 19/20\n",
      "180/180 [==============================] - 134s 745ms/step - loss: 0.1048 - accuracy: 0.9599 - val_loss: 3.1402 - val_accuracy: 0.7513\n",
      "Epoch 20/20\n",
      "180/180 [==============================] - 133s 736ms/step - loss: 0.0867 - accuracy: 0.9718 - val_loss: 4.0265 - val_accuracy: 0.6853\n"
     ]
    }
   ],
   "source": [
    "# Training the CNN on the Training set and evaluating it on the Test set\n",
    "r=cnn.fit(x = train_set, validation_data = test_set, epochs = 20)"
   ]
  },
  {
   "cell_type": "code",
   "execution_count": 103,
   "metadata": {
    "colab": {
     "base_uri": "https://localhost:8080/",
     "height": 533
    },
    "id": "SWfX8fDQPg8e",
    "outputId": "add45423-b7e5-4432-a8c5-c21389dee02a"
   },
   "outputs": [
    {
     "data": {
      "image/png": "[encoded data removed]",
      "text/plain": [
       "<Figure size 432x288 with 1 Axes>"
      ]
     },
     "metadata": {
      "needs_background": "light",
      "tags": []
     },
     "output_type": "display_data"
    },
    {
     "data": {
      "image/png": "[encoded data removed]",
      "text/plain": [
       "<Figure size 432x288 with 1 Axes>"
      ]
     },
     "metadata": {
      "needs_background": "light",
      "tags": []
     },
     "output_type": "display_data"
    },
    {
     "data": {
      "text/plain": [
       "<Figure size 432x288 with 0 Axes>"
      ]
     },
     "metadata": {
      "tags": []
     },
     "output_type": "display_data"
    }
   ],
   "source": [
    "# plot the loss\n",
    "import matplotlib.pyplot as plt\n",
    "plt.plot(r.history['loss'], label='train loss')\n",
    "plt.plot(r.history['val_loss'], label='val loss')\n",
    "plt.legend()\n",
    "plt.show()\n",
    "plt.savefig('LossVal_loss')\n",
    "\n",
    "# plot the accuracy\n",
    "plt.plot(r.history['accuracy'], label='train acc')\n",
    "plt.plot(r.history['val_accuracy'], label='val acc')\n",
    "plt.legend()\n",
    "plt.show()\n",
    "plt.savefig('AccVal_acc')"
   ]
  },
  {
   "cell_type": "markdown",
   "metadata": {
    "id": "RJP3gpVBC39f"
   },
   "source": [
    "**Save it as a h5 file**"
   ]
  },
  {
   "cell_type": "code",
   "execution_count": 104,
   "metadata": {
    "id": "BHyY9iX6CyZa"
   },
   "outputs": [],
   "source": [
    "from tensorflow.keras.models import load_model\n",
    "\n",
    "cnn.save('model_bt_cnn.h5')"
   ]
  },
  {
   "cell_type": "markdown",
   "metadata": {
    "id": "TRNs7b-NDtxD"
   },
   "source": [
    "Apply model on test set"
   ]
  },
  {
   "cell_type": "code",
   "execution_count": 105,
   "metadata": {
    "id": "Dv3RvU3ZCydq"
   },
   "outputs": [],
   "source": [
    "y_pred = cnn.predict(test_set)"
   ]
  },
  {
   "cell_type": "code",
   "execution_count": 106,
   "metadata": {
    "colab": {
     "base_uri": "https://localhost:8080/"
    },
    "id": "NwP-eTo8D0Y2",
    "outputId": "8fa4d625-d211-4441-92de-ffd5ff0f6b79"
   },
   "outputs": [
    {
     "data": {
      "text/plain": [
       "array([[6.2207873e-12, 9.9999881e-01, 1.2414222e-06, 3.5725891e-09],\n",
       "       [1.1448127e-04, 8.1291491e-01, 1.9351847e-02, 1.6761881e-01],\n",
       "       [1.7323376e-09, 4.1910025e-06, 9.9999583e-01, 1.5314500e-09],\n",
       "       ...,\n",
       "       [5.4348676e-10, 9.9665403e-01, 2.8181410e-05, 3.3177773e-03],\n",
       "       [4.8636386e-12, 9.9999809e-01, 1.9595393e-06, 2.8810978e-09],\n",
       "       [2.0037367e-08, 7.5361758e-01, 2.4638234e-01, 1.2140005e-15]],\n",
       "      dtype=float32)"
      ]
     },
     "execution_count": 106,
     "metadata": {
      "tags": []
     },
     "output_type": "execute_result"
    }
   ],
   "source": [
    "y_pred"
   ]
  },
  {
   "cell_type": "code",
   "execution_count": 107,
   "metadata": {
    "id": "d6zOhLuID0qP"
   },
   "outputs": [],
   "source": [
    "import numpy as np\n",
    "y_pred = np.argmax(y_pred, axis=1)"
   ]
  },
  {
   "cell_type": "code",
   "execution_count": 108,
   "metadata": {
    "colab": {
     "base_uri": "https://localhost:8080/"
    },
    "id": "jvJLmbV4D0tH",
    "outputId": "f9fed622-0c9e-41e3-e64d-af6099f8b338"
   },
   "outputs": [
    {
     "data": {
      "text/plain": [
       "array([1, 1, 2, 1, 2, 1, 1, 2, 1, 1, 1, 2, 3, 2, 2, 3, 2, 3, 1, 2, 2, 2,\n",
       "       2, 3, 1, 1, 2, 2, 2, 2, 1, 0, 2, 2, 1, 2, 2, 3, 2, 2, 2, 2, 1, 2,\n",
       "       1, 3, 2, 1, 2, 1, 2, 2, 2, 2, 1, 3, 2, 1, 2, 1, 1, 2, 2, 2, 3, 1,\n",
       "       2, 1, 1, 1, 1, 1, 1, 1, 2, 2, 1, 3, 1, 1, 2, 1, 1, 1, 1, 1, 2, 1,\n",
       "       1, 2, 0, 2, 1, 1, 2, 1, 1, 1, 1, 1, 1, 2, 0, 1, 3, 2, 2, 2, 2, 2,\n",
       "       2, 1, 1, 2, 2, 2, 2, 2, 1, 1, 2, 0, 2, 2, 1, 2, 1, 2, 2, 3, 2, 1,\n",
       "       1, 2, 2, 2, 1, 2, 3, 1, 2, 1, 2, 3, 1, 1, 2, 2, 2, 1, 1, 2, 1, 1,\n",
       "       2, 2, 1, 1, 1, 1, 1, 2, 2, 3, 3, 3, 2, 2, 1, 2, 1, 2, 2, 2, 1, 1,\n",
       "       2, 3, 3, 2, 2, 2, 2, 1, 2, 2, 1, 1, 2, 2, 2, 1, 1, 3, 1, 2, 2, 3,\n",
       "       1, 2, 1, 1, 2, 3, 1, 1, 2, 2, 1, 3, 2, 1, 2, 1, 2, 1, 2, 1, 2, 0,\n",
       "       1, 1, 1, 2, 2, 2, 1, 1, 2, 2, 3, 0, 1, 3, 2, 2, 3, 2, 0, 2, 3, 1,\n",
       "       1, 2, 1, 2, 2, 2, 2, 2, 2, 2, 2, 2, 2, 1, 0, 2, 1, 2, 1, 1, 2, 1,\n",
       "       3, 2, 1, 2, 1, 1, 1, 3, 2, 1, 0, 1, 3, 1, 2, 3, 2, 1, 1, 1, 2, 2,\n",
       "       2, 1, 1, 1, 1, 0, 2, 2, 2, 1, 0, 2, 0, 3, 1, 1, 2, 2, 1, 2, 2, 2,\n",
       "       1, 2, 2, 2, 1, 2, 1, 1, 1, 3, 3, 1, 1, 1, 1, 1, 3, 1, 0, 1, 0, 1,\n",
       "       2, 2, 1, 2, 0, 1, 2, 1, 2, 2, 1, 2, 2, 0, 2, 1, 2, 2, 1, 3, 3, 2,\n",
       "       1, 2, 2, 1, 1, 1, 1, 2, 2, 1, 1, 2, 3, 2, 2, 1, 0, 3, 1, 2, 1, 1,\n",
       "       3, 2, 2, 1, 2, 2, 3, 2, 1, 2, 1, 2, 2, 1, 1, 0, 1, 1, 1, 1])"
      ]
     },
     "execution_count": 108,
     "metadata": {
      "tags": []
     },
     "output_type": "execute_result"
    }
   ],
   "source": [
    "y_pred"
   ]
  },
  {
   "cell_type": "code",
   "execution_count": 4,
   "metadata": {
    "colab": {
     "base_uri": "https://localhost:8080/",
     "height": 306
    },
    "id": "Y6ye7zkED0zB",
    "outputId": "ab4e5013-a25c-4c0f-84cb-159d9d8e0cac"
   },
   "outputs": [
    {
     "ename": "OSError",
     "evalue": "ignored",
     "output_type": "error",
     "traceback": [
      "\u001b[0;31m---------------------------------------------------------------------------\u001b[0m",
      "\u001b[0;31mOSError\u001b[0m                                   Traceback (most recent call last)",
      "\u001b[0;32m<ipython-input-4-9baeb1d243da>\u001b[0m in \u001b[0;36m<module>\u001b[0;34m()\u001b[0m\n\u001b[0;32m----> 1\u001b[0;31m \u001b[0mmodel\u001b[0m\u001b[0;34m=\u001b[0m\u001b[0mload_model\u001b[0m\u001b[0;34m(\u001b[0m\u001b[0;34m'model_bt_cnn.h5'\u001b[0m\u001b[0;34m)\u001b[0m\u001b[0;34m\u001b[0m\u001b[0;34m\u001b[0m\u001b[0m\n\u001b[0m",
      "\u001b[0;32m/usr/local/lib/python3.7/dist-packages/tensorflow/python/keras/saving/save.py\u001b[0m in \u001b[0;36mload_model\u001b[0;34m(filepath, custom_objects, compile, options)\u001b[0m\n\u001b[1;32m    204\u001b[0m         \u001b[0mfilepath\u001b[0m \u001b[0;34m=\u001b[0m \u001b[0mpath_to_string\u001b[0m\u001b[0;34m(\u001b[0m\u001b[0mfilepath\u001b[0m\u001b[0;34m)\u001b[0m\u001b[0;34m\u001b[0m\u001b[0;34m\u001b[0m\u001b[0m\n\u001b[1;32m    205\u001b[0m         \u001b[0;32mif\u001b[0m \u001b[0misinstance\u001b[0m\u001b[0;34m(\u001b[0m\u001b[0mfilepath\u001b[0m\u001b[0;34m,\u001b[0m \u001b[0mstr\u001b[0m\u001b[0;34m)\u001b[0m\u001b[0;34m:\u001b[0m\u001b[0;34m\u001b[0m\u001b[0;34m\u001b[0m\u001b[0m\n\u001b[0;32m--> 206\u001b[0;31m           \u001b[0;32mreturn\u001b[0m \u001b[0msaved_model_load\u001b[0m\u001b[0;34m.\u001b[0m\u001b[0mload\u001b[0m\u001b[0;34m(\u001b[0m\u001b[0mfilepath\u001b[0m\u001b[0;34m,\u001b[0m \u001b[0mcompile\u001b[0m\u001b[0;34m,\u001b[0m \u001b[0moptions\u001b[0m\u001b[0;34m)\u001b[0m\u001b[0;34m\u001b[0m\u001b[0;34m\u001b[0m\u001b[0m\n\u001b[0m\u001b[1;32m    207\u001b[0m \u001b[0;34m\u001b[0m\u001b[0m\n\u001b[1;32m    208\u001b[0m   raise IOError(\n",
      "\u001b[0;32m/usr/local/lib/python3.7/dist-packages/tensorflow/python/keras/saving/saved_model/load.py\u001b[0m in \u001b[0;36mload\u001b[0;34m(path, compile, options)\u001b[0m\n\u001b[1;32m    119\u001b[0m   \u001b[0;31m# Look for metadata file or parse the SavedModel\u001b[0m\u001b[0;34m\u001b[0m\u001b[0;34m\u001b[0m\u001b[0;34m\u001b[0m\u001b[0m\n\u001b[1;32m    120\u001b[0m   \u001b[0mmetadata\u001b[0m \u001b[0;34m=\u001b[0m \u001b[0msaved_metadata_pb2\u001b[0m\u001b[0;34m.\u001b[0m\u001b[0mSavedMetadata\u001b[0m\u001b[0;34m(\u001b[0m\u001b[0;34m)\u001b[0m\u001b[0;34m\u001b[0m\u001b[0;34m\u001b[0m\u001b[0m\n\u001b[0;32m--> 121\u001b[0;31m   \u001b[0mmeta_graph_def\u001b[0m \u001b[0;34m=\u001b[0m \u001b[0mloader_impl\u001b[0m\u001b[0;34m.\u001b[0m\u001b[0mparse_saved_model\u001b[0m\u001b[0;34m(\u001b[0m\u001b[0mpath\u001b[0m\u001b[0;34m)\u001b[0m\u001b[0;34m.\u001b[0m\u001b[0mmeta_graphs\u001b[0m\u001b[0;34m[\u001b[0m\u001b[0;36m0\u001b[0m\u001b[0;34m]\u001b[0m\u001b[0;34m\u001b[0m\u001b[0;34m\u001b[0m\u001b[0m\n\u001b[0m\u001b[1;32m    122\u001b[0m   \u001b[0mobject_graph_def\u001b[0m \u001b[0;34m=\u001b[0m \u001b[0mmeta_graph_def\u001b[0m\u001b[0;34m.\u001b[0m\u001b[0mobject_graph_def\u001b[0m\u001b[0;34m\u001b[0m\u001b[0;34m\u001b[0m\u001b[0m\n\u001b[1;32m    123\u001b[0m   \u001b[0mpath_to_metadata_pb\u001b[0m \u001b[0;34m=\u001b[0m \u001b[0mos\u001b[0m\u001b[0;34m.\u001b[0m\u001b[0mpath\u001b[0m\u001b[0;34m.\u001b[0m\u001b[0mjoin\u001b[0m\u001b[0;34m(\u001b[0m\u001b[0mpath\u001b[0m\u001b[0;34m,\u001b[0m \u001b[0mconstants\u001b[0m\u001b[0;34m.\u001b[0m\u001b[0mSAVED_METADATA_PATH\u001b[0m\u001b[0;34m)\u001b[0m\u001b[0;34m\u001b[0m\u001b[0;34m\u001b[0m\u001b[0m\n",
      "\u001b[0;32m/usr/local/lib/python3.7/dist-packages/tensorflow/python/saved_model/loader_impl.py\u001b[0m in \u001b[0;36mparse_saved_model\u001b[0;34m(export_dir)\u001b[0m\n\u001b[1;32m    114\u001b[0m         \u001b[0;34m\"SavedModel file does not exist at: %s%s{%s|%s}\"\u001b[0m \u001b[0;34m%\u001b[0m\u001b[0;34m\u001b[0m\u001b[0;34m\u001b[0m\u001b[0m\n\u001b[1;32m    115\u001b[0m         (export_dir, os.path.sep, constants.SAVED_MODEL_FILENAME_PBTXT,\n\u001b[0;32m--> 116\u001b[0;31m          constants.SAVED_MODEL_FILENAME_PB))\n\u001b[0m\u001b[1;32m    117\u001b[0m \u001b[0;34m\u001b[0m\u001b[0m\n\u001b[1;32m    118\u001b[0m \u001b[0;34m\u001b[0m\u001b[0m\n",
      "\u001b[0;31mOSError\u001b[0m: SavedModel file does not exist at: model_bt_cnn.h5/{saved_model.pbtxt|saved_model.pb}"
     ]
    }
   ],
   "source": [
    "model=load_model('model_bt_cnn.h5')"
   ]
  },
  {
   "cell_type": "code",
   "execution_count": 110,
   "metadata": {
    "colab": {
     "base_uri": "https://localhost:8080/"
    },
    "id": "FUeUrpT0SUqP",
    "outputId": "5272412e-7b8c-442e-b484-68f342278bbd"
   },
   "outputs": [
    {
     "name": "stdout",
     "output_type": "stream",
     "text": [
      "Model: \"sequential_7\"\n",
      "_________________________________________________________________\n",
      "Layer (type)                 Output Shape              Param #   \n",
      "=================================================================\n",
      "conv2d_17 (Conv2D)           (None, 224, 224, 16)      208       \n",
      "_________________________________________________________________\n",
      "max_pooling2d_17 (MaxPooling (None, 112, 112, 16)      0         \n",
      "_________________________________________________________________\n",
      "conv2d_18 (Conv2D)           (None, 112, 112, 32)      2080      \n",
      "_________________________________________________________________\n",
      "max_pooling2d_18 (MaxPooling (None, 56, 56, 32)        0         \n",
      "_________________________________________________________________\n",
      "conv2d_19 (Conv2D)           (None, 56, 56, 64)        8256      \n",
      "_________________________________________________________________\n",
      "max_pooling2d_19 (MaxPooling (None, 28, 28, 64)        0         \n",
      "_________________________________________________________________\n",
      "conv2d_20 (Conv2D)           (None, 28, 28, 128)       32896     \n",
      "_________________________________________________________________\n",
      "max_pooling2d_20 (MaxPooling (None, 14, 14, 128)       0         \n",
      "_________________________________________________________________\n",
      "flatten_4 (Flatten)          (None, 25088)             0         \n",
      "_________________________________________________________________\n",
      "dense_9 (Dense)              (None, 500)               12544500  \n",
      "_________________________________________________________________\n",
      "dense_10 (Dense)             (None, 4)                 2004      \n",
      "=================================================================\n",
      "Total params: 12,589,944\n",
      "Trainable params: 12,589,944\n",
      "Non-trainable params: 0\n",
      "_________________________________________________________________\n"
     ]
    }
   ],
   "source": [
    "model.summary()"
   ]
  },
  {
   "cell_type": "code",
   "execution_count": 1,
   "metadata": {
    "colab": {
     "base_uri": "https://localhost:8080/",
     "height": 163
    },
    "id": "zW0LT4ouD0-n",
    "outputId": "61b91834-2beb-41bd-a664-cd8249fcdfaf"
   },
   "outputs": [
    {
     "ename": "NameError",
     "evalue": "ignored",
     "output_type": "error",
     "traceback": [
      "\u001b[0;31m---------------------------------------------------------------------------\u001b[0m",
      "\u001b[0;31mNameError\u001b[0m                                 Traceback (most recent call last)",
      "\u001b[0;32m<ipython-input-1-66e3f3dc7c91>\u001b[0m in \u001b[0;36m<module>\u001b[0;34m()\u001b[0m\n\u001b[0;32m----> 1\u001b[0;31m \u001b[0mimg\u001b[0m\u001b[0;34m=\u001b[0m\u001b[0mimage\u001b[0m\u001b[0;34m.\u001b[0m\u001b[0mload_img\u001b[0m\u001b[0;34m(\u001b[0m\u001b[0;34m'/content/drive/MyDrive/btnew/test/meningioma_tumor/image(10).jpg'\u001b[0m\u001b[0;34m,\u001b[0m\u001b[0mtarget_size\u001b[0m\u001b[0;34m=\u001b[0m\u001b[0;34m(\u001b[0m\u001b[0;36m224\u001b[0m\u001b[0;34m,\u001b[0m\u001b[0;36m224\u001b[0m\u001b[0;34m)\u001b[0m\u001b[0;34m)\u001b[0m\u001b[0;34m\u001b[0m\u001b[0;34m\u001b[0m\u001b[0m\n\u001b[0m",
      "\u001b[0;31mNameError\u001b[0m: name 'image' is not defined"
     ]
    }
   ],
   "source": [
    "img=image.load_img('/content/drive/MyDrive/btnew/test/meningioma_tumor/image(10).jpg',target_size=(224,224))"
   ]
  },
  {
   "cell_type": "code",
   "execution_count": 112,
   "metadata": {
    "colab": {
     "base_uri": "https://localhost:8080/"
    },
    "id": "2jRkI6s0D1B4",
    "outputId": "fa76a226-0731-4e15-e73d-6eba71b55c4f"
   },
   "outputs": [
    {
     "data": {
      "text/plain": [
       "array([[[5., 5., 5.],\n",
       "        [5., 5., 5.],\n",
       "        [4., 4., 4.],\n",
       "        ...,\n",
       "        [4., 4., 4.],\n",
       "        [4., 4., 4.],\n",
       "        [4., 4., 4.]],\n",
       "\n",
       "       [[6., 6., 6.],\n",
       "        [5., 5., 5.],\n",
       "        [4., 4., 4.],\n",
       "        ...,\n",
       "        [4., 4., 4.],\n",
       "        [4., 4., 4.],\n",
       "        [5., 5., 5.]],\n",
       "\n",
       "       [[6., 6., 6.],\n",
       "        [5., 5., 5.],\n",
       "        [4., 4., 4.],\n",
       "        ...,\n",
       "        [5., 5., 5.],\n",
       "        [5., 5., 5.],\n",
       "        [5., 5., 5.]],\n",
       "\n",
       "       ...,\n",
       "\n",
       "       [[5., 5., 5.],\n",
       "        [4., 4., 4.],\n",
       "        [3., 3., 3.],\n",
       "        ...,\n",
       "        [4., 4., 4.],\n",
       "        [5., 5., 5.],\n",
       "        [3., 3., 3.]],\n",
       "\n",
       "       [[5., 5., 5.],\n",
       "        [4., 4., 4.],\n",
       "        [3., 3., 3.],\n",
       "        ...,\n",
       "        [3., 3., 3.],\n",
       "        [3., 3., 3.],\n",
       "        [3., 3., 3.]],\n",
       "\n",
       "       [[5., 5., 5.],\n",
       "        [4., 4., 4.],\n",
       "        [3., 3., 3.],\n",
       "        ...,\n",
       "        [3., 3., 3.],\n",
       "        [3., 3., 3.],\n",
       "        [3., 3., 3.]]], dtype=float32)"
      ]
     },
     "execution_count": 112,
     "metadata": {
      "tags": []
     },
     "output_type": "execute_result"
    }
   ],
   "source": [
    "x=image.img_to_array(img)\n",
    "x"
   ]
  },
  {
   "cell_type": "code",
   "execution_count": 113,
   "metadata": {
    "colab": {
     "base_uri": "https://localhost:8080/"
    },
    "id": "er6ih-sqEoaO",
    "outputId": "b3bd4de9-d730-4989-ef06-269b719e4b2f"
   },
   "outputs": [
    {
     "data": {
      "text/plain": [
       "(224, 224, 3)"
      ]
     },
     "execution_count": 113,
     "metadata": {
      "tags": []
     },
     "output_type": "execute_result"
    }
   ],
   "source": [
    "x.shape"
   ]
  },
  {
   "cell_type": "code",
   "execution_count": 114,
   "metadata": {
    "id": "JgqY-nDBEodY"
   },
   "outputs": [],
   "source": [
    "x=x/255"
   ]
  },
  {
   "cell_type": "code",
   "execution_count": 115,
   "metadata": {
    "id": "bGejGAqWEogG"
   },
   "outputs": [],
   "source": [
    "import numpy as np\n",
    "x=np.expand_dims(x,axis=0)\n",
    "result = model.predict(x)"
   ]
  },
  {
   "cell_type": "code",
   "execution_count": 116,
   "metadata": {
    "colab": {
     "base_uri": "https://localhost:8080/"
    },
    "id": "XpGRyhUAEoph",
    "outputId": "cc406368-18c3-40d3-f8ae-d9361a922a51"
   },
   "outputs": [
    {
     "data": {
      "text/plain": [
       "array([[6.5665267e-06, 9.8875743e-01, 1.1232295e-02, 3.6387169e-06]],\n",
       "      dtype=float32)"
      ]
     },
     "execution_count": 116,
     "metadata": {
      "tags": []
     },
     "output_type": "execute_result"
    }
   ],
   "source": [
    "result"
   ]
  },
  {
   "cell_type": "code",
   "execution_count": 117,
   "metadata": {
    "colab": {
     "base_uri": "https://localhost:8080/"
    },
    "id": "se3UnHnmEw97",
    "outputId": "7faca671-6e1e-444a-9724-a84332a47f18"
   },
   "outputs": [
    {
     "data": {
      "text/plain": [
       "array([1])"
      ]
     },
     "execution_count": 117,
     "metadata": {
      "tags": []
     },
     "output_type": "execute_result"
    }
   ],
   "source": [
    "a=np.argmax(model.predict(x), axis=1)\n",
    "a"
   ]
  },
  {
   "cell_type": "code",
   "execution_count": 118,
   "metadata": {
    "colab": {
     "base_uri": "https://localhost:8080/"
    },
    "id": "d-WpaiIWEoyD",
    "outputId": "26411a70-0659-4875-bcf4-005c30d6a211"
   },
   "outputs": [
    {
     "name": "stdout",
     "output_type": "stream",
     "text": [
      "meningioma_tumor\n"
     ]
    }
   ],
   "source": [
    "if(a==0):\n",
    "    print(\"glioma_tumor\")\n",
    "elif(a==1):\n",
    "    print(\"meningioma_tumor\")\n",
    "elif(a==2):\n",
    "    print(\"no_tumor\")\n",
    "else:\n",
    "    print(\"pituitary_tumor\")"
   ]
  }
 ],
 "metadata": {
  "accelerator": "GPU",
  "colab": {
   "collapsed_sections": [],
   "name": "Brain Tumor detection CNN.ipynb",
   "provenance": []
  },
  "kernelspec": {
   "display_name": "Python 3",
   "language": "python",
   "name": "python3"
  },
  "language_info": {
   "codemirror_mode": {
    "name": "ipython",
    "version": 3
   },
   "file_extension": ".py",
   "mimetype": "text/x-python",
   "name": "python",
   "nbconvert_exporter": "python",
   "pygments_lexer": "ipython3",
   "version": "3.8.10"
  }
 },
 "nbformat": 4,
 "nbformat_minor": 1
}
