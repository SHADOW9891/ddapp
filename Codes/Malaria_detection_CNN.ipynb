{
  "nbformat": 4,
  "nbformat_minor": 0,
  "metadata": {
    "colab": {
      "name": "Malaria detection CNN.ipynb",
      "provenance": [],
      "collapsed_sections": []
    },
    "kernelspec": {
      "name": "python3",
      "display_name": "Python 3"
    },
    "language_info": {
      "name": "python"
    },
    "accelerator": "GPU"
  },
  "cells": [
    {
      "cell_type": "markdown",
      "metadata": {
        "id": "Mp5LTW5w5zFz"
      },
      "source": [
        "# **Requirements**"
      ]
    },
    {
      "cell_type": "markdown",
      "metadata": {
        "id": "KZTec5ws8fd0"
      },
      "source": [
        ""
      ]
    },
    {
      "cell_type": "code",
      "metadata": {
        "colab": {
          "base_uri": "https://localhost:8080/"
        },
        "id": "x4sATyst2cq8",
        "outputId": "acf262c6-26e3-4819-bbbf-f6cf10a3e5ae"
      },
      "source": [
        "!pip install tensorflow-gpu"
      ],
      "execution_count": 1,
      "outputs": [
        {
          "output_type": "stream",
          "text": [
            "Collecting tensorflow-gpu\n",
            "  Downloading tensorflow_gpu-2.5.0-cp37-cp37m-manylinux2010_x86_64.whl (454.3 MB)\n",
            "\u001b[K     |████████████████████████████████| 454.3 MB 16 kB/s \n",
            "\u001b[?25hRequirement already satisfied: flatbuffers~=1.12.0 in /usr/local/lib/python3.7/dist-packages (from tensorflow-gpu) (1.12)\n",
            "Requirement already satisfied: wrapt~=1.12.1 in /usr/local/lib/python3.7/dist-packages (from tensorflow-gpu) (1.12.1)\n",
            "Requirement already satisfied: google-pasta~=0.2 in /usr/local/lib/python3.7/dist-packages (from tensorflow-gpu) (0.2.0)\n",
            "Requirement already satisfied: tensorflow-estimator<2.6.0,>=2.5.0rc0 in /usr/local/lib/python3.7/dist-packages (from tensorflow-gpu) (2.5.0)\n",
            "Requirement already satisfied: gast==0.4.0 in /usr/local/lib/python3.7/dist-packages (from tensorflow-gpu) (0.4.0)\n",
            "Requirement already satisfied: termcolor~=1.1.0 in /usr/local/lib/python3.7/dist-packages (from tensorflow-gpu) (1.1.0)\n",
            "Requirement already satisfied: typing-extensions~=3.7.4 in /usr/local/lib/python3.7/dist-packages (from tensorflow-gpu) (3.7.4.3)\n",
            "Requirement already satisfied: six~=1.15.0 in /usr/local/lib/python3.7/dist-packages (from tensorflow-gpu) (1.15.0)\n",
            "Requirement already satisfied: tensorboard~=2.5 in /usr/local/lib/python3.7/dist-packages (from tensorflow-gpu) (2.5.0)\n",
            "Requirement already satisfied: numpy~=1.19.2 in /usr/local/lib/python3.7/dist-packages (from tensorflow-gpu) (1.19.5)\n",
            "Requirement already satisfied: wheel~=0.35 in /usr/local/lib/python3.7/dist-packages (from tensorflow-gpu) (0.36.2)\n",
            "Requirement already satisfied: protobuf>=3.9.2 in /usr/local/lib/python3.7/dist-packages (from tensorflow-gpu) (3.17.3)\n",
            "Requirement already satisfied: astunparse~=1.6.3 in /usr/local/lib/python3.7/dist-packages (from tensorflow-gpu) (1.6.3)\n",
            "Requirement already satisfied: opt-einsum~=3.3.0 in /usr/local/lib/python3.7/dist-packages (from tensorflow-gpu) (3.3.0)\n",
            "Requirement already satisfied: grpcio~=1.34.0 in /usr/local/lib/python3.7/dist-packages (from tensorflow-gpu) (1.34.1)\n",
            "Requirement already satisfied: keras-nightly~=2.5.0.dev in /usr/local/lib/python3.7/dist-packages (from tensorflow-gpu) (2.5.0.dev2021032900)\n",
            "Requirement already satisfied: absl-py~=0.10 in /usr/local/lib/python3.7/dist-packages (from tensorflow-gpu) (0.12.0)\n",
            "Requirement already satisfied: keras-preprocessing~=1.1.2 in /usr/local/lib/python3.7/dist-packages (from tensorflow-gpu) (1.1.2)\n",
            "Requirement already satisfied: h5py~=3.1.0 in /usr/local/lib/python3.7/dist-packages (from tensorflow-gpu) (3.1.0)\n",
            "Requirement already satisfied: cached-property in /usr/local/lib/python3.7/dist-packages (from h5py~=3.1.0->tensorflow-gpu) (1.5.2)\n",
            "Requirement already satisfied: requests<3,>=2.21.0 in /usr/local/lib/python3.7/dist-packages (from tensorboard~=2.5->tensorflow-gpu) (2.23.0)\n",
            "Requirement already satisfied: setuptools>=41.0.0 in /usr/local/lib/python3.7/dist-packages (from tensorboard~=2.5->tensorflow-gpu) (57.2.0)\n",
            "Requirement already satisfied: markdown>=2.6.8 in /usr/local/lib/python3.7/dist-packages (from tensorboard~=2.5->tensorflow-gpu) (3.3.4)\n",
            "Requirement already satisfied: google-auth<2,>=1.6.3 in /usr/local/lib/python3.7/dist-packages (from tensorboard~=2.5->tensorflow-gpu) (1.32.1)\n",
            "Requirement already satisfied: tensorboard-data-server<0.7.0,>=0.6.0 in /usr/local/lib/python3.7/dist-packages (from tensorboard~=2.5->tensorflow-gpu) (0.6.1)\n",
            "Requirement already satisfied: werkzeug>=0.11.15 in /usr/local/lib/python3.7/dist-packages (from tensorboard~=2.5->tensorflow-gpu) (1.0.1)\n",
            "Requirement already satisfied: google-auth-oauthlib<0.5,>=0.4.1 in /usr/local/lib/python3.7/dist-packages (from tensorboard~=2.5->tensorflow-gpu) (0.4.4)\n",
            "Requirement already satisfied: tensorboard-plugin-wit>=1.6.0 in /usr/local/lib/python3.7/dist-packages (from tensorboard~=2.5->tensorflow-gpu) (1.8.0)\n",
            "Requirement already satisfied: pyasn1-modules>=0.2.1 in /usr/local/lib/python3.7/dist-packages (from google-auth<2,>=1.6.3->tensorboard~=2.5->tensorflow-gpu) (0.2.8)\n",
            "Requirement already satisfied: rsa<5,>=3.1.4 in /usr/local/lib/python3.7/dist-packages (from google-auth<2,>=1.6.3->tensorboard~=2.5->tensorflow-gpu) (4.7.2)\n",
            "Requirement already satisfied: cachetools<5.0,>=2.0.0 in /usr/local/lib/python3.7/dist-packages (from google-auth<2,>=1.6.3->tensorboard~=2.5->tensorflow-gpu) (4.2.2)\n",
            "Requirement already satisfied: requests-oauthlib>=0.7.0 in /usr/local/lib/python3.7/dist-packages (from google-auth-oauthlib<0.5,>=0.4.1->tensorboard~=2.5->tensorflow-gpu) (1.3.0)\n",
            "Requirement already satisfied: importlib-metadata in /usr/local/lib/python3.7/dist-packages (from markdown>=2.6.8->tensorboard~=2.5->tensorflow-gpu) (4.6.1)\n",
            "Requirement already satisfied: pyasn1<0.5.0,>=0.4.6 in /usr/local/lib/python3.7/dist-packages (from pyasn1-modules>=0.2.1->google-auth<2,>=1.6.3->tensorboard~=2.5->tensorflow-gpu) (0.4.8)\n",
            "Requirement already satisfied: chardet<4,>=3.0.2 in /usr/local/lib/python3.7/dist-packages (from requests<3,>=2.21.0->tensorboard~=2.5->tensorflow-gpu) (3.0.4)\n",
            "Requirement already satisfied: idna<3,>=2.5 in /usr/local/lib/python3.7/dist-packages (from requests<3,>=2.21.0->tensorboard~=2.5->tensorflow-gpu) (2.10)\n",
            "Requirement already satisfied: certifi>=2017.4.17 in /usr/local/lib/python3.7/dist-packages (from requests<3,>=2.21.0->tensorboard~=2.5->tensorflow-gpu) (2021.5.30)\n",
            "Requirement already satisfied: urllib3!=1.25.0,!=1.25.1,<1.26,>=1.21.1 in /usr/local/lib/python3.7/dist-packages (from requests<3,>=2.21.0->tensorboard~=2.5->tensorflow-gpu) (1.24.3)\n",
            "Requirement already satisfied: oauthlib>=3.0.0 in /usr/local/lib/python3.7/dist-packages (from requests-oauthlib>=0.7.0->google-auth-oauthlib<0.5,>=0.4.1->tensorboard~=2.5->tensorflow-gpu) (3.1.1)\n",
            "Requirement already satisfied: zipp>=0.5 in /usr/local/lib/python3.7/dist-packages (from importlib-metadata->markdown>=2.6.8->tensorboard~=2.5->tensorflow-gpu) (3.5.0)\n",
            "Installing collected packages: tensorflow-gpu\n",
            "Successfully installed tensorflow-gpu-2.5.0\n"
          ],
          "name": "stdout"
        }
      ]
    },
    {
      "cell_type": "code",
      "metadata": {
        "colab": {
          "base_uri": "https://localhost:8080/"
        },
        "id": "UTs59cop3Y6J",
        "outputId": "9a7787f9-d40f-427a-859d-8c19dcfdf3b0"
      },
      "source": [
        "!nvidia-smi"
      ],
      "execution_count": 4,
      "outputs": [
        {
          "output_type": "stream",
          "text": [
            "NVIDIA-SMI has failed because it couldn't communicate with the NVIDIA driver. Make sure that the latest NVIDIA driver is installed and running.\n",
            "\n"
          ],
          "name": "stdout"
        }
      ]
    },
    {
      "cell_type": "markdown",
      "metadata": {
        "id": "T_Z-Zruo5w9a"
      },
      "source": [
        "# **Convolutional Neural Network**\n"
      ]
    },
    {
      "cell_type": "markdown",
      "metadata": {
        "id": "R0-mIipM6bTi"
      },
      "source": [
        " \n",
        "\n",
        "---\n",
        "\n"
      ]
    },
    {
      "cell_type": "markdown",
      "metadata": {
        "id": "Rq93pLmb6kYe"
      },
      "source": [
        "Importing the libraries"
      ]
    },
    {
      "cell_type": "code",
      "metadata": {
        "id": "tzcqCkRG35AM"
      },
      "source": [
        "import tensorflow as tf\n",
        "from tensorflow.keras.layers import Input, Lambda, Dense, Flatten, Conv2D, MaxPooling2D, Dropout\n",
        "from tensorflow.keras.models import Model, load_model\n",
        "from tensorflow.keras.preprocessing import image\n",
        "from tensorflow.keras.preprocessing.image import ImageDataGenerator,load_img\n",
        "from tensorflow.keras.models import Sequential\n",
        "from tensorflow.keras.regularizers import l2\n",
        "\n",
        "import numpy as np\n",
        "from glob import glob\n",
        "import matplotlib.pyplot as plt"
      ],
      "execution_count": 5,
      "outputs": []
    },
    {
      "cell_type": "markdown",
      "metadata": {
        "id": "OQ-SAWJW6zGQ"
      },
      "source": [
        "Image Resize"
      ]
    },
    {
      "cell_type": "code",
      "metadata": {
        "id": "TUuNXO1W35P_"
      },
      "source": [
        "IMAGE_SIZE = [224, 224]"
      ],
      "execution_count": 6,
      "outputs": []
    },
    {
      "cell_type": "markdown",
      "metadata": {
        "id": "nzr5bZEt69wS"
      },
      "source": [
        "Import the dataset"
      ]
    },
    {
      "cell_type": "code",
      "metadata": {
        "id": "M6uKKsu57AMs"
      },
      "source": [
        "train_path = '/content/drive/MyDrive/Malaria/train'\n",
        "test_path = '/content/drive/MyDrive/Malaria/test'"
      ],
      "execution_count": 8,
      "outputs": []
    },
    {
      "cell_type": "code",
      "metadata": {
        "colab": {
          "base_uri": "https://localhost:8080/"
        },
        "id": "Un6pnyRn7Aeb",
        "outputId": "7ff388d4-3ad0-4c8c-b681-a880dd27c8fc"
      },
      "source": [
        "# useful for getting number of output classes\n",
        "folders = glob('/content/drive/MyDrive/Malaria/train/*')\n",
        "folders"
      ],
      "execution_count": 9,
      "outputs": [
        {
          "output_type": "execute_result",
          "data": {
            "text/plain": [
              "['/content/drive/MyDrive/Malaria/train/Parasite',\n",
              " '/content/drive/MyDrive/Malaria/train/Uninfected']"
            ]
          },
          "metadata": {
            "tags": []
          },
          "execution_count": 9
        }
      ]
    },
    {
      "cell_type": "markdown",
      "metadata": {
        "id": "Qtp8EZ3R8nY-"
      },
      "source": [
        "Model creation"
      ]
    },
    {
      "cell_type": "code",
      "metadata": {
        "colab": {
          "base_uri": "https://localhost:8080/"
        },
        "id": "pdVRtTwF-q4D",
        "outputId": "5a1d4890-7746-4ace-d2cd-fb540d7d6b64"
      },
      "source": [
        "### Create Model from scratch using CNN\n",
        "# Initialising the CNN\n",
        "cnn = tf.keras.models.Sequential()\n",
        "\n",
        "# Step 1 - Convolution\n",
        "cnn.add(Conv2D(filters=16,kernel_size=2,padding=\"same\",activation=\"relu\",input_shape=(224,224,3)))\n",
        "\n",
        "# Step 2 - Pooling\n",
        "cnn.add(MaxPooling2D(pool_size=2))\n",
        "\n",
        "# Adding a second convolutional layer\n",
        "cnn.add(Conv2D(filters=32,kernel_size=2,padding=\"same\",activation =\"relu\"))\n",
        "\n",
        "# Adding second Pooling layer\n",
        "cnn.add(MaxPooling2D(pool_size=2))\n",
        "\n",
        "# Adding a third convolutional layer\n",
        "cnn.add(Conv2D(filters=64,kernel_size=2,padding=\"same\",activation=\"relu\"))\n",
        "\n",
        "# Adding third Pooling layer\n",
        "cnn.add(MaxPooling2D(pool_size=2))\n",
        "\n",
        "# Step 3 - Flattening\n",
        "cnn.add(Flatten())\n",
        "\n",
        "# Step 4 - Full Connection\n",
        "cnn.add(Dense(500,activation=\"relu\"))\n",
        "\n",
        "# Step 5 - Dropout to deal with overfitting\n",
        "cnn.add(Dropout(0.5))\n",
        "\n",
        "# Step 6 - Output Layer\n",
        "cnn.add(Dense(len(folders),activation=\"softmax\"))\n",
        "cnn.summary()"
      ],
      "execution_count": 10,
      "outputs": [
        {
          "output_type": "stream",
          "text": [
            "Model: \"sequential\"\n",
            "_________________________________________________________________\n",
            "Layer (type)                 Output Shape              Param #   \n",
            "=================================================================\n",
            "conv2d (Conv2D)              (None, 224, 224, 16)      208       \n",
            "_________________________________________________________________\n",
            "max_pooling2d (MaxPooling2D) (None, 112, 112, 16)      0         \n",
            "_________________________________________________________________\n",
            "conv2d_1 (Conv2D)            (None, 112, 112, 32)      2080      \n",
            "_________________________________________________________________\n",
            "max_pooling2d_1 (MaxPooling2 (None, 56, 56, 32)        0         \n",
            "_________________________________________________________________\n",
            "conv2d_2 (Conv2D)            (None, 56, 56, 64)        8256      \n",
            "_________________________________________________________________\n",
            "max_pooling2d_2 (MaxPooling2 (None, 28, 28, 64)        0         \n",
            "_________________________________________________________________\n",
            "flatten (Flatten)            (None, 50176)             0         \n",
            "_________________________________________________________________\n",
            "dense (Dense)                (None, 500)               25088500  \n",
            "_________________________________________________________________\n",
            "dropout (Dropout)            (None, 500)               0         \n",
            "_________________________________________________________________\n",
            "dense_1 (Dense)              (None, 2)                 1002      \n",
            "=================================================================\n",
            "Total params: 25,100,046\n",
            "Trainable params: 25,100,046\n",
            "Non-trainable params: 0\n",
            "_________________________________________________________________\n"
          ],
          "name": "stdout"
        }
      ]
    },
    {
      "cell_type": "markdown",
      "metadata": {
        "id": "jeCptMrZB14h"
      },
      "source": [
        "Choose the best parameters"
      ]
    },
    {
      "cell_type": "code",
      "metadata": {
        "id": "ygrQT5p577iC"
      },
      "source": [
        "cnn.compile(\n",
        "  loss='categorical_crossentropy',\n",
        "  optimizer='adam',\n",
        "  metrics=['accuracy']\n",
        ")"
      ],
      "execution_count": 11,
      "outputs": []
    },
    {
      "cell_type": "markdown",
      "metadata": {
        "id": "l4KIoQlDCOMc"
      },
      "source": [
        "Use the Image Data Generator to import the images from the dataset"
      ]
    },
    {
      "cell_type": "code",
      "metadata": {
        "id": "_1tdg4yY77mn"
      },
      "source": [
        "from tensorflow.keras.preprocessing.image import ImageDataGenerator\n",
        "\n",
        "train_datagen = ImageDataGenerator(rescale = 1./255,\n",
        "                                   shear_range = 0.2,\n",
        "                                   zoom_range = 0.2,\n",
        "                                   horizontal_flip = True)\n",
        "\n",
        "test_datagen = ImageDataGenerator(rescale = 1./255)"
      ],
      "execution_count": 12,
      "outputs": []
    },
    {
      "cell_type": "code",
      "metadata": {
        "colab": {
          "base_uri": "https://localhost:8080/"
        },
        "id": "n_o1r23x77r_",
        "outputId": "33af526d-11d3-41a1-c2cf-028f7136738e"
      },
      "source": [
        "# Make sure you provide the same target size as initialied for the image size\n",
        "train_set = train_datagen.flow_from_directory('/content/drive/MyDrive/Malaria/Train',\n",
        "                                                 target_size = (224,224),\n",
        "                                                 batch_size = 16,\n",
        "                                                 class_mode = 'categorical')"
      ],
      "execution_count": 17,
      "outputs": [
        {
          "output_type": "stream",
          "text": [
            "Found 6000 images belonging to 2 classes.\n"
          ],
          "name": "stdout"
        }
      ]
    },
    {
      "cell_type": "code",
      "metadata": {
        "colab": {
          "base_uri": "https://localhost:8080/"
        },
        "id": "CAHHEjc477xW",
        "outputId": "a81ef75f-e8e4-4461-d690-333bbdb7076b"
      },
      "source": [
        "test_set = test_datagen.flow_from_directory('/content/drive/MyDrive/Malaria/Test',\n",
        "                                            target_size = (224,224),\n",
        "                                            batch_size = 16,\n",
        "                                            class_mode = 'categorical')"
      ],
      "execution_count": 16,
      "outputs": [
        {
          "output_type": "stream",
          "text": [
            "Found 2500 images belonging to 2 classes.\n"
          ],
          "name": "stdout"
        }
      ]
    },
    {
      "cell_type": "markdown",
      "metadata": {
        "id": "c5N7FcZ5Csod"
      },
      "source": [
        "**fit the model**"
      ]
    },
    {
      "cell_type": "code",
      "metadata": {
        "colab": {
          "base_uri": "https://localhost:8080/"
        },
        "id": "9gwTU4MQCxGC",
        "outputId": "a6f84043-f83e-48fe-e18e-189bb241651d"
      },
      "source": [
        "# Training the CNN on the Training set and evaluating it on the Test set\n",
        "r=cnn.fit(x = train_set, validation_data = test_set, epochs = 20)"
      ],
      "execution_count": 18,
      "outputs": [
        {
          "output_type": "stream",
          "text": [
            "Epoch 1/20\n",
            "375/375 [==============================] - 2031s 5s/step - loss: 0.5032 - accuracy: 0.7682 - val_loss: 0.3161 - val_accuracy: 0.9164\n",
            "Epoch 2/20\n",
            "375/375 [==============================] - 360s 960ms/step - loss: 0.3398 - accuracy: 0.8898 - val_loss: 0.3534 - val_accuracy: 0.8976\n",
            "Epoch 3/20\n",
            "375/375 [==============================] - 357s 953ms/step - loss: 0.3589 - accuracy: 0.8745 - val_loss: 0.3469 - val_accuracy: 0.8796\n",
            "Epoch 4/20\n",
            "375/375 [==============================] - 356s 948ms/step - loss: 0.3258 - accuracy: 0.8930 - val_loss: 0.3686 - val_accuracy: 0.8648\n",
            "Epoch 5/20\n",
            "375/375 [==============================] - 356s 948ms/step - loss: 0.3204 - accuracy: 0.8920 - val_loss: 0.2918 - val_accuracy: 0.9176\n",
            "Epoch 6/20\n",
            "375/375 [==============================] - 354s 944ms/step - loss: 0.3575 - accuracy: 0.8690 - val_loss: 0.3549 - val_accuracy: 0.8812\n",
            "Epoch 7/20\n",
            "375/375 [==============================] - 355s 946ms/step - loss: 0.2609 - accuracy: 0.9200 - val_loss: 0.2877 - val_accuracy: 0.9020\n",
            "Epoch 8/20\n",
            "375/375 [==============================] - 355s 945ms/step - loss: 0.2373 - accuracy: 0.9258 - val_loss: 0.2210 - val_accuracy: 0.9404\n",
            "Epoch 9/20\n",
            "375/375 [==============================] - 354s 944ms/step - loss: 0.2825 - accuracy: 0.9117 - val_loss: 0.1863 - val_accuracy: 0.9420\n",
            "Epoch 10/20\n",
            "375/375 [==============================] - 356s 949ms/step - loss: 0.2274 - accuracy: 0.9317 - val_loss: 0.2108 - val_accuracy: 0.9364\n",
            "Epoch 11/20\n",
            "375/375 [==============================] - 356s 949ms/step - loss: 0.2152 - accuracy: 0.9353 - val_loss: 0.2210 - val_accuracy: 0.9352\n",
            "Epoch 12/20\n",
            "375/375 [==============================] - 357s 951ms/step - loss: 0.1934 - accuracy: 0.9420 - val_loss: 0.2563 - val_accuracy: 0.9336\n",
            "Epoch 13/20\n",
            "375/375 [==============================] - 357s 951ms/step - loss: 0.2067 - accuracy: 0.9435 - val_loss: 0.2606 - val_accuracy: 0.9172\n",
            "Epoch 14/20\n",
            "375/375 [==============================] - 358s 954ms/step - loss: 0.2072 - accuracy: 0.9393 - val_loss: 0.1927 - val_accuracy: 0.9400\n",
            "Epoch 15/20\n",
            "375/375 [==============================] - 358s 954ms/step - loss: 0.1883 - accuracy: 0.9418 - val_loss: 0.2609 - val_accuracy: 0.9268\n",
            "Epoch 16/20\n",
            "375/375 [==============================] - 354s 944ms/step - loss: 0.2031 - accuracy: 0.9410 - val_loss: 0.2212 - val_accuracy: 0.9384\n",
            "Epoch 17/20\n",
            "375/375 [==============================] - 353s 940ms/step - loss: 0.1946 - accuracy: 0.9442 - val_loss: 0.1942 - val_accuracy: 0.9404\n",
            "Epoch 18/20\n",
            "375/375 [==============================] - 361s 964ms/step - loss: 0.1889 - accuracy: 0.9423 - val_loss: 0.2012 - val_accuracy: 0.9412\n",
            "Epoch 19/20\n",
            "375/375 [==============================] - 356s 949ms/step - loss: 0.1996 - accuracy: 0.9428 - val_loss: 0.1900 - val_accuracy: 0.9420\n",
            "Epoch 20/20\n",
            "375/375 [==============================] - 354s 943ms/step - loss: 0.1799 - accuracy: 0.9462 - val_loss: 0.1759 - val_accuracy: 0.9492\n"
          ],
          "name": "stdout"
        }
      ]
    },
    {
      "cell_type": "code",
      "metadata": {
        "colab": {
          "base_uri": "https://localhost:8080/",
          "height": 531
        },
        "id": "SWfX8fDQPg8e",
        "outputId": "80770500-d3c2-439d-9d28-a91a8d2608b1"
      },
      "source": [
        "# plot the loss\n",
        "import matplotlib.pyplot as plt\n",
        "plt.plot(r.history['loss'], label='train loss')\n",
        "plt.plot(r.history['val_loss'], label='val loss')\n",
        "plt.legend()\n",
        "plt.show()\n",
        "plt.savefig('LossVal_loss')\n",
        "\n",
        "# plot the accuracy\n",
        "plt.plot(r.history['accuracy'], label='train acc')\n",
        "plt.plot(r.history['val_accuracy'], label='val acc')\n",
        "plt.legend()\n",
        "plt.show()\n",
        "plt.savefig('AccVal_acc')"
      ],
      "execution_count": 19,
      "outputs": [
        {
          "output_type": "display_data",
          "data": {
            "image/png": "[encoded data removed]",
            "text/plain": [
              "<Figure size 432x288 with 1 Axes>"
            ]
          },
          "metadata": {
            "tags": [],
            "needs_background": "light"
          }
        },
        {
          "output_type": "display_data",
          "data": {
            "image/png": "[encoded data removed]",
            "text/plain": [
              "<Figure size 432x288 with 1 Axes>"
            ]
          },
          "metadata": {
            "tags": [],
            "needs_background": "light"
          }
        },
        {
          "output_type": "display_data",
          "data": {
            "text/plain": [
              "<Figure size 432x288 with 0 Axes>"
            ]
          },
          "metadata": {
            "tags": []
          }
        }
      ]
    },
    {
      "cell_type": "markdown",
      "metadata": {
        "id": "RJP3gpVBC39f"
      },
      "source": [
        "**Save it as a h5 file**"
      ]
    },
    {
      "cell_type": "code",
      "metadata": {
        "id": "BHyY9iX6CyZa"
      },
      "source": [
        "from tensorflow.keras.models import load_model\n",
        "\n",
        "cnn.save('model_cnn_malaria.h5')"
      ],
      "execution_count": 20,
      "outputs": []
    },
    {
      "cell_type": "markdown",
      "metadata": {
        "id": "TRNs7b-NDtxD"
      },
      "source": [
        "Apply model on test set"
      ]
    },
    {
      "cell_type": "code",
      "metadata": {
        "id": "Dv3RvU3ZCydq"
      },
      "source": [
        "y_pred = cnn.predict(test_set)"
      ],
      "execution_count": 21,
      "outputs": []
    },
    {
      "cell_type": "code",
      "metadata": {
        "colab": {
          "base_uri": "https://localhost:8080/"
        },
        "id": "NwP-eTo8D0Y2",
        "outputId": "4398838d-9d38-47ab-e905-aefbe28d90bf"
      },
      "source": [
        "y_pred"
      ],
      "execution_count": 22,
      "outputs": [
        {
          "output_type": "execute_result",
          "data": {
            "text/plain": [
              "array([[9.9991989e-01, 8.0066311e-05],\n",
              "       [9.9201375e-01, 7.9863109e-03],\n",
              "       [9.9999571e-01, 4.3332607e-06],\n",
              "       ...,\n",
              "       [9.9418620e-03, 9.9005812e-01],\n",
              "       [9.9999785e-01, 2.1937378e-06],\n",
              "       [9.8316759e-01, 1.6832409e-02]], dtype=float32)"
            ]
          },
          "metadata": {
            "tags": []
          },
          "execution_count": 22
        }
      ]
    },
    {
      "cell_type": "code",
      "metadata": {
        "id": "d6zOhLuID0qP"
      },
      "source": [
        "import numpy as np\n",
        "y_pred = np.argmax(y_pred, axis=1)"
      ],
      "execution_count": 23,
      "outputs": []
    },
    {
      "cell_type": "code",
      "metadata": {
        "colab": {
          "base_uri": "https://localhost:8080/"
        },
        "id": "jvJLmbV4D0tH",
        "outputId": "f67584d9-e3e9-47ab-a21b-cd184cb7dd1d"
      },
      "source": [
        "y_pred"
      ],
      "execution_count": 24,
      "outputs": [
        {
          "output_type": "execute_result",
          "data": {
            "text/plain": [
              "array([0, 0, 0, ..., 1, 0, 0])"
            ]
          },
          "metadata": {
            "tags": []
          },
          "execution_count": 24
        }
      ]
    },
    {
      "cell_type": "code",
      "metadata": {
        "id": "Y6ye7zkED0zB"
      },
      "source": [
        "model=load_model('model_cnn_malaria.h5')"
      ],
      "execution_count": 25,
      "outputs": []
    },
    {
      "cell_type": "code",
      "metadata": {
        "id": "zW0LT4ouD0-n"
      },
      "source": [
        "img=image.load_img('/content/drive/MyDrive/Malaria/Test/Paracitized/C100P61ThinF_IMG_20150918_144104_cell_162.png',target_size=(224,224))"
      ],
      "execution_count": 27,
      "outputs": []
    },
    {
      "cell_type": "code",
      "metadata": {
        "colab": {
          "base_uri": "https://localhost:8080/"
        },
        "id": "2jRkI6s0D1B4",
        "outputId": "08c8143f-9c8d-4ea5-8e6e-e2d04784fd9a"
      },
      "source": [
        "x=image.img_to_array(img)\n",
        "x"
      ],
      "execution_count": 28,
      "outputs": [
        {
          "output_type": "execute_result",
          "data": {
            "text/plain": [
              "array([[[0., 0., 0.],\n",
              "        [0., 0., 0.],\n",
              "        [0., 0., 0.],\n",
              "        ...,\n",
              "        [0., 0., 0.],\n",
              "        [0., 0., 0.],\n",
              "        [0., 0., 0.]],\n",
              "\n",
              "       [[0., 0., 0.],\n",
              "        [0., 0., 0.],\n",
              "        [0., 0., 0.],\n",
              "        ...,\n",
              "        [0., 0., 0.],\n",
              "        [0., 0., 0.],\n",
              "        [0., 0., 0.]],\n",
              "\n",
              "       [[0., 0., 0.],\n",
              "        [0., 0., 0.],\n",
              "        [0., 0., 0.],\n",
              "        ...,\n",
              "        [0., 0., 0.],\n",
              "        [0., 0., 0.],\n",
              "        [0., 0., 0.]],\n",
              "\n",
              "       ...,\n",
              "\n",
              "       [[0., 0., 0.],\n",
              "        [0., 0., 0.],\n",
              "        [0., 0., 0.],\n",
              "        ...,\n",
              "        [0., 0., 0.],\n",
              "        [0., 0., 0.],\n",
              "        [0., 0., 0.]],\n",
              "\n",
              "       [[0., 0., 0.],\n",
              "        [0., 0., 0.],\n",
              "        [0., 0., 0.],\n",
              "        ...,\n",
              "        [0., 0., 0.],\n",
              "        [0., 0., 0.],\n",
              "        [0., 0., 0.]],\n",
              "\n",
              "       [[0., 0., 0.],\n",
              "        [0., 0., 0.],\n",
              "        [0., 0., 0.],\n",
              "        ...,\n",
              "        [0., 0., 0.],\n",
              "        [0., 0., 0.],\n",
              "        [0., 0., 0.]]], dtype=float32)"
            ]
          },
          "metadata": {
            "tags": []
          },
          "execution_count": 28
        }
      ]
    },
    {
      "cell_type": "code",
      "metadata": {
        "colab": {
          "base_uri": "https://localhost:8080/"
        },
        "id": "er6ih-sqEoaO",
        "outputId": "9a39e41b-9bf4-4194-e548-dd33601453fe"
      },
      "source": [
        "x.shape"
      ],
      "execution_count": 29,
      "outputs": [
        {
          "output_type": "execute_result",
          "data": {
            "text/plain": [
              "(224, 224, 3)"
            ]
          },
          "metadata": {
            "tags": []
          },
          "execution_count": 29
        }
      ]
    },
    {
      "cell_type": "code",
      "metadata": {
        "id": "JgqY-nDBEodY"
      },
      "source": [
        "x=x/255"
      ],
      "execution_count": 30,
      "outputs": []
    },
    {
      "cell_type": "code",
      "metadata": {
        "id": "bGejGAqWEogG"
      },
      "source": [
        "import numpy as np\n",
        "x=np.expand_dims(x,axis=0)\n",
        "result = model.predict(x)"
      ],
      "execution_count": 31,
      "outputs": []
    },
    {
      "cell_type": "code",
      "metadata": {
        "colab": {
          "base_uri": "https://localhost:8080/"
        },
        "id": "XpGRyhUAEoph",
        "outputId": "21179711-7151-4ba4-d36f-69d068eac5b5"
      },
      "source": [
        "result"
      ],
      "execution_count": 32,
      "outputs": [
        {
          "output_type": "execute_result",
          "data": {
            "text/plain": [
              "array([[9.9999285e-01, 7.1919594e-06]], dtype=float32)"
            ]
          },
          "metadata": {
            "tags": []
          },
          "execution_count": 32
        }
      ]
    },
    {
      "cell_type": "code",
      "metadata": {
        "id": "se3UnHnmEw97",
        "colab": {
          "base_uri": "https://localhost:8080/"
        },
        "outputId": "16fc6956-fb15-49a5-db17-d0ddb92acb06"
      },
      "source": [
        "a=np.argmax(model.predict(x), axis=1)\n",
        "a"
      ],
      "execution_count": 33,
      "outputs": [
        {
          "output_type": "execute_result",
          "data": {
            "text/plain": [
              "array([0])"
            ]
          },
          "metadata": {
            "tags": []
          },
          "execution_count": 33
        }
      ]
    },
    {
      "cell_type": "code",
      "metadata": {
        "colab": {
          "base_uri": "https://localhost:8080/"
        },
        "id": "jycy6ZFyExBE",
        "outputId": "61726bf1-35f0-4437-898c-911d864f9737"
      },
      "source": [
        "if(a==0):\n",
        "    print(\"affected\")\n",
        "else:\n",
        "    print(\"Uninfected\")"
      ],
      "execution_count": 34,
      "outputs": [
        {
          "output_type": "stream",
          "text": [
            "affected\n"
          ],
          "name": "stdout"
        }
      ]
    },
    {
      "cell_type": "code",
      "metadata": {
        "id": "d-WpaiIWEoyD"
      },
      "source": [
        ""
      ],
      "execution_count": null,
      "outputs": []
    }
  ]
}